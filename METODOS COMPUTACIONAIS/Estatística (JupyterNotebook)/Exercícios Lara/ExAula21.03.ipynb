{
 "cells": [
  {
   "cell_type": "markdown",
   "id": "7c760d0e-a618-40ec-8918-40865d8981dc",
   "metadata": {},
   "source": [
    "Exercícios:\n",
    "\n",
    "Distribuição Binomial para n=100 p=0.35\n"
   ]
  },
  {
   "cell_type": "code",
   "execution_count": null,
   "id": "0ef8bc73-345e-48b3-9bff-5386b925232d",
   "metadata": {},
   "outputs": [],
   "source": [
    "%matplotlib inline\n",
    "import os\n",
    "import matplotlib.pyplot as plt \n",
    "import numpy as np\n",
    "import math\n",
    "def factorial(x):\n",
    "    factorial = 1\n",
    "    for a range(1, x+1):\n",
    "    factorial = factorial*i\n",
    "    return factorial\n",
    "def binomial (k,n,p):\n",
    "    B = factorial(\n"
   ]
  }
 ],
 "metadata": {
  "kernelspec": {
   "display_name": "Python 3 (ipykernel)",
   "language": "python",
   "name": "python3"
  },
  "language_info": {
   "codemirror_mode": {
    "name": "ipython",
    "version": 3
   },
   "file_extension": ".py",
   "mimetype": "text/x-python",
   "name": "python",
   "nbconvert_exporter": "python",
   "pygments_lexer": "ipython3",
   "version": "3.11.5"
  }
 },
 "nbformat": 4,
 "nbformat_minor": 5
}
