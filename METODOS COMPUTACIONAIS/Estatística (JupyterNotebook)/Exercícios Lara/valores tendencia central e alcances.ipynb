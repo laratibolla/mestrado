{
 "cells": [
  {
   "cell_type": "markdown",
   "metadata": {},
   "source": []
  },
  {
   "cell_type": "code",
   "execution_count": 6,
   "metadata": {},
   "outputs": [
    {
     "name": "stdout",
     "output_type": "stream",
     "text": [
      "A mediana de partos é 2.0.\n",
      "A moda de partos é 2.\n",
      "A média de partos é 2.\n",
      "A variância de partos é 2.\n",
      "O desvio padrão de partos é 1.\n"
     ]
    }
   ],
   "source": [
    "import os\n",
    "import math\n",
    "import numpy as np\n",
    "import pandas as pd\n",
    "import statistics\n",
    "\n",
    "\n",
    "dados = pd.read_csv(\"exerciciocasa1_Idades.csv\") \n",
    "m1 = statistics.median(dados[\"partos\"])\n",
    "m2 = statistics.mode(dados[\"partos\"])\n",
    "m3= statistics.mean(dados[\"partos\"])\n",
    "variância=statistics.variance(dados[\"partos\"])\n",
    "despadrão=statistics.stdev(dados[\"partos\"])\n",
    "print(\"A mediana de partos é % s.\" % m1)\n",
    "print(\"A moda de partos é % s.\" % m2)\n",
    "print(\"A média de partos é % s.\" % int(m3))\n",
    "print(\"A variância de partos é % s.\" % int(variância))\n",
    "print(\"O desvio padrão de partos é % s.\" % int(despadrão))\n",
    "\n",
    "\n"
   ]
  },
  {
   "cell_type": "markdown",
   "metadata": {},
   "source": [
    "E usando a nossa própria função:"
   ]
  },
  {
   "cell_type": "code",
   "execution_count": 7,
   "metadata": {},
   "outputs": [
    {
     "name": "stdout",
     "output_type": "stream",
     "text": [
      "A média de partos é 2.\n",
      "A variância de partos é 2.\n",
      "O desvio padrão de partos é 1.\n"
     ]
    }
   ],
   "source": [
    "import os\n",
    "import math\n",
    "import numpy as np\n",
    "import pandas as pd\n",
    "\n",
    "dados = pd.read_csv(\"exerciciocasa1_Idades.csv\") \n",
    "N =len(dados) # número de dados\n",
    "soma=sum(dados[\"partos\"]) #calcular a soma\n",
    "média=soma/N #média\n",
    "soma2=sum(((dados[\"partos\"])-média)**2) #calcular a soma\n",
    "variância=soma2/(N-1)\n",
    "despadrão=math.sqrt(variância)\n",
    "print(\"A média de partos é % s.\" % int(média))\n",
    "print(\"A variância de partos é % s.\" % int(variância))\n",
    "print(\"O desvio padrão de partos é % s.\" % int(despadrão))\n",
    "\n"
   ]
  },
  {
   "cell_type": "code",
   "execution_count": null,
   "metadata": {},
   "outputs": [],
   "source": []
  }
 ],
 "metadata": {
  "kernelspec": {
   "display_name": "Python 3",
   "language": "python",
   "name": "python3"
  },
  "language_info": {
   "codemirror_mode": {
    "name": "ipython",
    "version": 3
   },
   "file_extension": ".py",
   "mimetype": "text/x-python",
   "name": "python",
   "nbconvert_exporter": "python",
   "pygments_lexer": "ipython3",
   "version": "3.7.6"
  }
 },
 "nbformat": 4,
 "nbformat_minor": 4
}
