{
 "cells": [
  {
   "cell_type": "code",
   "execution_count": 1,
   "metadata": {},
   "outputs": [
    {
     "name": "stdout",
     "output_type": "stream",
     "text": [
      "The value of y at x is:\n"
     ]
    },
    {
     "data": {
      "text/plain": [
       "(None, 1.1036393232374955)"
      ]
     },
     "execution_count": 1,
     "metadata": {},
     "output_type": "execute_result"
    }
   ],
   "source": [
    "# Python program to implement Runge Kutta method \n",
    "# A sample differential equation \"dy / dx = (x - y)/2\" \n",
    "def dydx(x, y): \n",
    "    return ((x - y)/2) \n",
    "  \n",
    "# Finds value of y for a given x using step size h \n",
    "# and initial value y0 at x0. \n",
    "def rungeKutta(x0, y0, x, h): \n",
    "    # Count number of iterations using step size or \n",
    "    # step height h \n",
    "    n = (int)((x - x0)/h)  \n",
    "    # Iterate for number of iterations \n",
    "    y = y0 \n",
    "    for i in range(1, n + 1): \n",
    "        \"Apply Runge Kutta Formulas to find next value of y\"\n",
    "        k1 = h * dydx(x0, y) \n",
    "        k2 = h * dydx(x0 + 0.5 * h, y + 0.5 * k1) \n",
    "        k3 = h * dydx(x0 + 0.5 * h, y + 0.5 * k2) \n",
    "        k4 = h * dydx(x0 + h, y + k3) \n",
    "  \n",
    "        # Update next value of y \n",
    "        y = y + (1.0 / 6.0)*(k1 + 2 * k2 + 2 * k3 + k4) \n",
    "  \n",
    "        # Update next value of x \n",
    "        x0 = x0 + h \n",
    "    return y \n",
    "  \n",
    "# Driver method \n",
    "x0 = 0\n",
    "y = 1\n",
    "x = 2\n",
    "h = 0.2\n",
    "print ('The value of y at x is:'), rungeKutta(x0, y, x, h) \n",
    "  \n",
    "# This code is contributed by Prateek Bhindwar "
   ]
  },
  {
   "cell_type": "code",
   "execution_count": null,
   "metadata": {},
   "outputs": [],
   "source": []
  }
 ],
 "metadata": {
  "kernelspec": {
   "display_name": "Python 3",
   "language": "python",
   "name": "python3"
  },
  "language_info": {
   "codemirror_mode": {
    "name": "ipython",
    "version": 3
   },
   "file_extension": ".py",
   "mimetype": "text/x-python",
   "name": "python",
   "nbconvert_exporter": "python",
   "pygments_lexer": "ipython3",
   "version": "3.7.6"
  }
 },
 "nbformat": 4,
 "nbformat_minor": 4
}
