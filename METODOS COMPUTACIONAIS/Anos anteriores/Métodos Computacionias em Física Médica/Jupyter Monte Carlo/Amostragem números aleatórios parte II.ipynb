{
 "cells": [
  {
   "cell_type": "markdown",
   "metadata": {},
   "source": [
    "<b>Segundo método para fazer amostragem de distribuição gaussiana (transformada de Box-Muller)</b>\n",
    "\n",
    "Considerando duas distribuições gaussianas:\n",
    "\n",
    "$p(x)=\\frac{1}{\\sigma\\sqrt{2\\pi}}e^{-\\frac{1}{2}(\\frac{\\mu-x}{\\sigma})^2}$ e \n",
    "$p(y)=\\frac{1}{\\sigma\\sqrt{2\\pi}}e^{-\\frac{1}{2}(\\frac{\\mu-y}{\\sigma})^2}$\n",
    "\n",
    "Considerando o caso $\\mu=0$ e $\\sigma=1$, a probabilidade conjunta das duas será:\n",
    "$p(x,y)=\\frac{1}{2\\pi}e^{-\\frac{1}{2}(x^2+y^2)}$,\n",
    "\n",
    "Se $x^2+y^2\\leq 1$ e $x^2+y^2\\neq 0$   o problema tem coordenadas polares, em que $x=rcos\\theta$ e $y=rsen\\theta$\n",
    "\n",
    "Reescrevendo:\n",
    "\n",
    "$p(r)=\\frac{1}{2\\pi}e^{-\\frac{1}{2}r^2}$,\n",
    "\n",
    "Podemos ainda integrar para obter a função cumulativa:\n",
    "\n",
    "$\\displaystyle\\int_0^r\\int_0^{\\theta} \\frac{1}{2\\pi}e^{-\\frac{1}{2}r^2}rdrd\\theta=\\frac{\\theta}{2\\pi}\\displaystyle\\int_0^re^{-\\frac{1}{2}r^2}rdr$\n",
    "\n",
    "Então utilizando o método da distribuição acumulada inversa, uma das variáveis será:\n",
    "\n",
    "$F^{-1}(\\theta)=U_1=\\frac{\\theta}{2\\pi}$ ou seja, $2\\pi U_1=\\theta$\n",
    "\n",
    "Restando-nos apenas o segundo termo:\n",
    "\n",
    "$\\displaystyle\\int_0^re^{-\\frac{1}{2}r^2}rdr$\n",
    "\n",
    "Em que podemos ainda fazer a mudança de variável $t=\\frac{1}{2}r^2$ o que implica que $dt=rdr$, e teremos:\n",
    "\n",
    "$\\displaystyle\\int_0^\\sqrt{t} e^{-t}dt$\n",
    "\n",
    "Que é na verdade a função exponencial, que vimos na aula passada como se amostrava pelo método da cumulativa inversa:\n",
    "\n",
    "$t=-ln(U_2)$, ou seja, $r=\\sqrt{-2ln(U_2)}$,\n",
    "\n",
    "Sendo assim, o nosso x e y, que serão variáveis aleatórias de distribuição gaussiana, podem ser reescritos:\n",
    "\n",
    "(1)$X=rcos(\\theta)= cos(2\\pi U_1)\\sqrt{-2ln(U_2)}$\n",
    "\n",
    "(2)$Y=rsen(\\theta)= sen(2\\pi U_1)\\sqrt{-2ln(U_2)}$\n",
    "\n",
    "As equações de cima definem o método de Box-Muller para amostrar a partir de duas distribuições gaussianas.\n",
    "\n",
    "<b>Método polar de Marsaglia</b>\n",
    "\n",
    "O método polar de Marsaglia permite simplificar estas equações, considerando:\n",
    "\n",
    "$U_2=s=r^2=x^2+y^2=u^2+v^2$\n",
    "\n",
    "Podemos ainda reescrever:\n",
    "\n",
    "$cos\\theta=\\frac{u}{r}=\\frac{u}{\\sqrt{s}}$\n",
    "\n",
    "$sen\\theta=\\frac{v}{r}=\\frac{v}{\\sqrt{s}}$\n",
    "\n",
    "Então as equações (1) e (2) ficam:\n",
    "\n",
    "(3)$X=\\sqrt{-2ln(s)}\\frac{u}{\\sqrt{s}}=u\\sqrt{\\frac{-2ln(s)}{s}}$\n",
    "\n",
    "(4)$Y=\\sqrt{-2ln(s)}\\frac{v}{\\sqrt{s}}=v\\sqrt{\\frac{-2ln(s)}{s}}$\n",
    "\n"
   ]
  },
  {
   "cell_type": "code",
   "execution_count": 1,
   "metadata": {},
   "outputs": [
    {
     "data": {
      "image/png": "[encoded data removed]",
      "text/plain": [
       "<Figure size 432x288 with 1 Axes>"
      ]
     },
     "metadata": {
      "needs_background": "light"
     },
     "output_type": "display_data"
    }
   ],
   "source": [
    "%matplotlib inline\n",
    "import os\n",
    "import numpy as np\n",
    "import math\n",
    "import matplotlib.pyplot as plt \n",
    "import pandas as pd\n",
    "from random import random\n",
    "amostra1=[]\n",
    "amostra2=[]\n",
    "x=[]\n",
    "n=2000000\n",
    "for i in range(0,n):\n",
    "    r1=-1+2*random()\n",
    "    r2=-1+2*random()\n",
    "    s=r1**2+r2**2\n",
    "    if s!=0 and s<=1:\n",
    "        s1=-2*math.log(s)/s\n",
    "        z1=r1*s1**0.5\n",
    "        z2=r2*s1**0.5\n",
    "        amostra1.append(z1)\n",
    "        amostra2.append(z2)\n",
    "        x.append(i)\n",
    "#plt.plot(x,amostra1,'-o')\n",
    "dados={'y':amostra1}\n",
    "bins=np.arange(-5,5,.01)\n",
    "df=pd.DataFrame(data=dados).hist(bins=bins)"
   ]
  },
  {
   "cell_type": "markdown",
   "metadata": {},
   "source": [
    "<b>Amostragem de distribuição de Poisson</b>\n",
    "\n",
    "Para o caso da distribuição de Poisson, temos apenas que considerar que $\\lambda$ é o valor médio, e que todos os tempos em que não ocorre um sucesso têm uma distribuição exponencial. Isto vem da propriedade da distribuição de Poisson. Sendo assim, basta lançar vários números aleatórios e ir multiplicando até o valor ser inferior a $\\lambda$. Quando isso acontecer, o valor que obtemos é o valor de k respectivo -1 (ou seja o último a ser superior a $\\lambda$."
   ]
  },
  {
   "cell_type": "code",
   "execution_count": 2,
   "metadata": {},
   "outputs": [
    {
     "data": {
      "image/png": "[encoded data removed]",
      "text/plain": [
       "<Figure size 432x288 with 1 Axes>"
      ]
     },
     "metadata": {
      "needs_background": "light"
     },
     "output_type": "display_data"
    }
   ],
   "source": [
    "%matplotlib inline\n",
    "import os\n",
    "import numpy as np\n",
    "import math\n",
    "import matplotlib.pyplot as plt \n",
    "import pandas as pd\n",
    "from random import random\n",
    "amostra=[]\n",
    "x=[]\n",
    "n=200000\n",
    "lamb=1.5\n",
    "L=math.exp(-lamb)\n",
    "for i in range (0,n):\n",
    "    p=1\n",
    "    k=0\n",
    "    while p>=L:\n",
    "        r=random()\n",
    "        p=p*r\n",
    "        k+=1\n",
    "    amostra.append(k-1)\n",
    "    x.append(i)\n",
    "#plt.plot(x,amostra,'-o')\n",
    "dados={'y':amostra}\n",
    "bins=np.arange(0,20)\n",
    "df=pd.DataFrame(data=dados)\n",
    "df=pd.cut(df['y'],bins=bins)\n",
    "df=df.groupby(df).size().plot(kind='bar')"
   ]
  },
  {
   "cell_type": "markdown",
   "metadata": {},
   "source": [
    "<b>Amostragem de distribuição binomial</b>\n",
    "\n",
    "Para a distribuição binomial, é ainda mais simples, basta ir lançando números aleatórios, o que é equivalente a fazer um teste de Bernoulli para r<p. Cada combinação de casos em que houve k sucessos corresponde a cada ponto na nossa distribuição binomial."
   ]
  },
  {
   "cell_type": "code",
   "execution_count": 3,
   "metadata": {},
   "outputs": [
    {
     "data": {
      "image/png": "[encoded data removed]",
      "text/plain": [
       "<Figure size 432x288 with 1 Axes>"
      ]
     },
     "metadata": {
      "needs_background": "light"
     },
     "output_type": "display_data"
    }
   ],
   "source": [
    "%matplotlib inline\n",
    "import os\n",
    "import numpy as np\n",
    "import math\n",
    "import matplotlib.pyplot as plt \n",
    "import pandas as pd\n",
    "from random import random\n",
    "amostra=[]\n",
    "x=[]\n",
    "n=6000\n",
    "p=0.4\n",
    "k=20\n",
    "for i in range(0,n):\n",
    "    binomial=0\n",
    "    for j in range(0,k):\n",
    "        r=random()\n",
    "        if r<p:binomial+=1\n",
    "    amostra.append(binomial)\n",
    "    x.append(i)\n",
    "#plt.plot(x,amostra,'-o')\n",
    "dados={'y':amostra}\n",
    "bins=np.arange(0,20)\n",
    "df=pd.DataFrame(data=dados)\n",
    "df=pd.cut(df['y'],bins=bins)\n",
    "df=df.groupby(df).size().plot(kind='bar')\n",
    "    \n",
    "\n",
    "        "
   ]
  },
  {
   "cell_type": "code",
   "execution_count": null,
   "metadata": {},
   "outputs": [],
   "source": []
  }
 ],
 "metadata": {
  "kernelspec": {
   "display_name": "Python 3",
   "language": "python",
   "name": "python3"
  },
  "language_info": {
   "codemirror_mode": {
    "name": "ipython",
    "version": 3
   },
   "file_extension": ".py",
   "mimetype": "text/x-python",
   "name": "python",
   "nbconvert_exporter": "python",
   "pygments_lexer": "ipython3",
   "version": "3.7.6"
  }
 },
 "nbformat": 4,
 "nbformat_minor": 4
}
