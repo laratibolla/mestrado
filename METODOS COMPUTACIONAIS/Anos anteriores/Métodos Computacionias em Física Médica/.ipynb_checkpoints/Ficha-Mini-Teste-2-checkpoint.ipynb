{
 "cells": [
  {
   "cell_type": "code",
   "execution_count": 35,
   "metadata": {},
   "outputs": [],
   "source": [
    "from numpy.random import rand\n",
    "from numpy import *\n",
    "from matplotlib.pyplot import plot, hist, scatter"
   ]
  },
  {
   "cell_type": "markdown",
   "metadata": {},
   "source": [
    "# Exercicio 1"
   ]
  },
  {
   "cell_type": "code",
   "execution_count": 70,
   "metadata": {},
   "outputs": [],
   "source": [
    "a, b = 4.21, 5.7\n",
    "x, y = b/2, a\n",
    "\n",
    "area_tri = x*y/2\n",
    "area_tot = x*y\n",
    "\n",
    "#pontos acima deste ângulo estão fora do triangulo\n",
    "theta_c  = arctan(y/x)"
   ]
  },
  {
   "cell_type": "code",
   "execution_count": 71,
   "metadata": {},
   "outputs": [
    {
     "data": {
      "text/plain": [
       "5.9745330899999995"
      ]
     },
     "execution_count": 71,
     "metadata": {},
     "output_type": "execute_result"
    }
   ],
   "source": [
    "def estimar_area(numero_de_propostas):\n",
    "    \"\"\"\n",
    "    Estimar área do triângulo na primeira metade do quadrado.\n",
    "    Atenção: depende das variáveis globais x, y e area_tot.\n",
    "    \"\"\"\n",
    "    propostas_aceites = 0\n",
    "\n",
    "    for _ in range(numero_de_propostas):\n",
    "        rand_x = x*rand()\n",
    "        rand_y = y*rand()\n",
    "        theta  = arctan(rand_y/rand_x)\n",
    "        if theta < theta_c:\n",
    "            propostas_aceites = propostas_aceites + 1\n",
    "            \n",
    "    frac = propostas_aceites/numero_de_propostas\n",
    "    return area_tot*frac\n",
    "\n",
    "estimar_area(100_000)"
   ]
  },
  {
   "cell_type": "code",
   "execution_count": 72,
   "metadata": {},
   "outputs": [
    {
     "data": {
      "text/plain": [
       "5.99925"
      ]
     },
     "execution_count": 72,
     "metadata": {},
     "output_type": "execute_result"
    }
   ],
   "source": [
    "area_tri"
   ]
  },
  {
   "cell_type": "code",
   "execution_count": 82,
   "metadata": {},
   "outputs": [
    {
     "name": "stdout",
     "output_type": "stream",
     "text": [
      "atenção: áreas da primeira metade do retangulo\n",
      "Area exata: 5.99925\n",
      "Area estimada:  6.08443935\n",
      "Erro rela(%): 1.4200000000000046 %\n"
     ]
    }
   ],
   "source": [
    "area_estimada = estimar_area(10_000)\n",
    "\n",
    "print(\"atenção: áreas da primeira metade do retangulo\")\n",
    "print(\"Area exata:\", area_tri)\n",
    "print(\"Area estimada: \", area_estimada)\n",
    "print(\"Erro rela(%):\", abs(area_tri - area_estimada)*100/area_tri, \"%\")"
   ]
  },
  {
   "cell_type": "markdown",
   "metadata": {},
   "source": [
    "# Exercício 2"
   ]
  },
  {
   "cell_type": "markdown",
   "metadata": {},
   "source": [
    "$$I = \\int_{0}^{5} \\frac{x+1}{x+5} dx $$"
   ]
  },
  {
   "cell_type": "markdown",
   "metadata": {},
   "source": [
    "x estar entre x e x + dx:\n",
    "\n",
    "$$p(x) = \\frac{1}{5}$$"
   ]
  },
  {
   "cell_type": "markdown",
   "metadata": {},
   "source": [
    "$$I = \\int_{0}^{5} \\frac{x+1}{x+5} \\frac{p(x)}{p(x)} dx $$"
   ]
  },
  {
   "cell_type": "markdown",
   "metadata": {},
   "source": [
    "$$I = \\frac{1}{p(x)} \\int_{0}^{5} \\frac{x+1}{x+5} p(x)  dx $$"
   ]
  },
  {
   "cell_type": "markdown",
   "metadata": {},
   "source": [
    "$$I = 5 <\\frac{x+1}{x+5}> $$"
   ]
  },
  {
   "cell_type": "code",
   "execution_count": 62,
   "metadata": {},
   "outputs": [
    {
     "name": "stdout",
     "output_type": "stream",
     "text": [
      "integral estimado =  2.2269113649522065\n"
     ]
    }
   ],
   "source": [
    "def f(x):\n",
    "    \"\"\"Função a integrar. Aceita arrays, calcula pontualmente.\"\"\"\n",
    "    return (x+1)/(x+5)\n",
    "\n",
    "X = 5*rand(100_000) \n",
    "areas = 5*f(X)\n",
    "print(\"integral estimado = \", mean(areas))"
   ]
  },
  {
   "cell_type": "code",
   "execution_count": 63,
   "metadata": {},
   "outputs": [
    {
     "data": {
      "text/plain": [
       "[<matplotlib.lines.Line2D at 0x1b251c5ae48>]"
      ]
     },
     "execution_count": 63,
     "metadata": {},
     "output_type": "execute_result"
    },
    {
     "data": {
      "image/png": "[encoded data removed]",
      "text/plain": [
       "<Figure size 432x288 with 1 Axes>"
      ]
     },
     "metadata": {
      "needs_background": "light"
     },
     "output_type": "display_data"
    }
   ],
   "source": [
    "x0, xf, dx = 0, 5, .1\n",
    "x = arange(x0, xf, dx)\n",
    "plot(x, f(x))"
   ]
  },
  {
   "cell_type": "markdown",
   "metadata": {},
   "source": [
    "# Exercicio 3"
   ]
  },
  {
   "cell_type": "markdown",
   "metadata": {},
   "source": [
    "$$p(x) = 3 e^{-3x}$$\n",
    "\n",
    "em que $x$ é maior ou igual a zero."
   ]
  },
  {
   "cell_type": "code",
   "execution_count": 64,
   "metadata": {},
   "outputs": [
    {
     "data": {
      "text/plain": [
       "[<matplotlib.lines.Line2D at 0x1b251cb09c8>]"
      ]
     },
     "execution_count": 64,
     "metadata": {},
     "output_type": "execute_result"
    },
    {
     "data": {
      "image/png": "[encoded data removed]",
      "text/plain": [
       "<Figure size 432x288 with 1 Axes>"
      ]
     },
     "metadata": {
      "needs_background": "light"
     },
     "output_type": "display_data"
    }
   ],
   "source": [
    "def p(x): \n",
    "    \"\"\"Distribuição de probabilidade.\"\"\"\n",
    "    return 3*exp(-3*x)\n",
    "\n",
    "x0, xf, dx = 0, 5, 0.01\n",
    "x = arange(x0, xf, dx)\n",
    "plot(x, p(x))"
   ]
  },
  {
   "cell_type": "markdown",
   "metadata": {},
   "source": [
    "Calcular a função cumulutativa de $p(x)$:\n",
    "\n",
    "$$P(x) = \\int_{0}^{x} p(u) du$$\n",
    "\n",
    "$$ P(x) = 3 \\int_{0}^{x} e^{-3u} du $$"
   ]
  },
  {
   "cell_type": "markdown",
   "metadata": {},
   "source": [
    "$$ P(x) = 3 \\frac{1}{-3} \\int_{0}^{x} e^{-3u}  d(-3u) $$"
   ]
  },
  {
   "cell_type": "markdown",
   "metadata": {},
   "source": [
    "$$ P(x) =  1  - e^{-3x} $$"
   ]
  },
  {
   "cell_type": "code",
   "execution_count": 65,
   "metadata": {},
   "outputs": [],
   "source": [
    "def P(x):\n",
    "    \"\"\"Função cumulutativa de p(x). Aceita arrays.\"\"\"\n",
    "    return 1 - exp(-3*x)"
   ]
  },
  {
   "cell_type": "code",
   "execution_count": 66,
   "metadata": {},
   "outputs": [
    {
     "data": {
      "text/plain": [
       "[<matplotlib.lines.Line2D at 0x1b251d16888>]"
      ]
     },
     "execution_count": 66,
     "metadata": {},
     "output_type": "execute_result"
    },
    {
     "data": {
      "image/png": "[encoded data removed]",
      "text/plain": [
       "<Figure size 432x288 with 1 Axes>"
      ]
     },
     "metadata": {
      "needs_background": "light"
     },
     "output_type": "display_data"
    }
   ],
   "source": [
    "plot(x, P(x))"
   ]
  },
  {
   "cell_type": "markdown",
   "metadata": {},
   "source": [
    "$$ P^{-1}(y) = - \\ln(1 - y)/3 $$\n",
    "\n",
    "$$ P^{-1}(y) = - \\ln(y)/3 $$"
   ]
  },
  {
   "cell_type": "code",
   "execution_count": 67,
   "metadata": {},
   "outputs": [],
   "source": [
    "def cumul_inv(y):\n",
    "    \"\"\"Funçao cumulutativa inversa. Aceita arrays.\"\"\"\n",
    "    return -log(y)/3"
   ]
  },
  {
   "cell_type": "code",
   "execution_count": 68,
   "metadata": {},
   "outputs": [
    {
     "data": {
      "text/plain": [
       "[<matplotlib.lines.Line2D at 0x1b251d7de08>]"
      ]
     },
     "execution_count": 68,
     "metadata": {},
     "output_type": "execute_result"
    },
    {
     "data": {
      "image/png": "[encoded data removed]",
      "text/plain": [
       "<Figure size 432x288 with 1 Axes>"
      ]
     },
     "metadata": {
      "needs_background": "light"
     },
     "output_type": "display_data"
    }
   ],
   "source": [
    "r = rand(1000_000)\n",
    "hist(cumul_inv(r), bins = 200, density = True);\n",
    "plot(x, p(x))"
   ]
  },
  {
   "cell_type": "code",
   "execution_count": null,
   "metadata": {},
   "outputs": [],
   "source": []
  }
 ],
 "metadata": {
  "kernelspec": {
   "display_name": "Python 3",
   "language": "python",
   "name": "python3"
  },
  "language_info": {
   "codemirror_mode": {
    "name": "ipython",
    "version": 3
   },
   "file_extension": ".py",
   "mimetype": "text/x-python",
   "name": "python",
   "nbconvert_exporter": "python",
   "pygments_lexer": "ipython3",
   "version": "3.7.6"
  }
 },
 "nbformat": 4,
 "nbformat_minor": 4
}
