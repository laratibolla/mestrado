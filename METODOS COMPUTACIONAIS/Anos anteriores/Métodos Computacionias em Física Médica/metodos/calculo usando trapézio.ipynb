{
 "cells": [
  {
   "cell_type": "markdown",
   "metadata": {},
   "source": [
    "<b>CÁLCULO NUMÉRICO DO INTEGRAL DA FUNÇÃO GAUSSIANA A FUNÇÃO ERRO (ERROR FUNCTION OU ERF) UTILIZANDO O MÉTODO DOS TRAPÉZIOS</b>\n",
    "\n",
    "\n",
    "O método dos trapézios passa por dividir o intervalo (b-a), em que se quer integrar a função, em 'N' intervalos pequenos de espessura $h=\\frac{b-a}{N}$.\n",
    "\n",
    "<img src=\"Integration_num_trapezes_notation.svg\"  width=\"280\" alt=\"integration using Trapezoidal rule\" align=\"center\">\n",
    "\n",
    "Ao fazer isso, o integral pode ser aproximado por:\n",
    "\n",
    "$\\displaystyle \\int_a^b f(x)dx\\approx \\frac{h}{2}\\sum_{k=1}^N[f(x_{k-1})+f(x_k)]$\n",
    "\n",
    "Isto pode ser feito, utilizando a função referida $f(x)=e^{-x^2}$ e utilizando o código Pyhton. Vamos fazê-lo nos limites -1 e +1, ou seja estamos a determinar $erf(1)$ a menos do factor $\\frac{1}{\\sqrt{\\pi}}$.\n",
    "\n",
    "\n",
    "\n"
   ]
  },
  {
   "cell_type": "code",
   "execution_count": 75,
   "metadata": {},
   "outputs": [
    {
     "name": "stdout",
     "output_type": "stream",
     "text": [
      "0.841866143517\n"
     ]
    }
   ],
   "source": [
    "%matplotlib inline\n",
    "import os\n",
    "import math\n",
    "from math import pi\n",
    "from math import sqrt\n",
    "import matplotlib\n",
    "import matplotlib.pyplot as plt\n",
    "import numpy as np\n",
    "a=-1.\n",
    "b=+1.\n",
    "N=500\n",
    "h=(b-a)/N\n",
    "sum1=0\n",
    "x1=a\n",
    "for i in range(1,N,1):\n",
    "    x2=x1+h\n",
    "    sum1=sum1+(math.exp(-x1**2)+math.exp(-x2**2))\n",
    "    x1=x2\n",
    "sum1=(h/2)*sum1\n",
    "errfunction=(1/sqrt(pi))*sum1\n",
    "print(errfunction)\n"
   ]
  },
  {
   "cell_type": "markdown",
   "metadata": {},
   "source": [
    "Obtivemos um valor para a erf(1) de 0.84186614317. O código Python tem já a função erf definida, podemos comparar o valor que calculamos com o valor \"interno\" de erf em Pyhton."
   ]
  },
  {
   "cell_type": "code",
   "execution_count": 76,
   "metadata": {},
   "outputs": [
    {
     "name": "stdout",
     "output_type": "stream",
     "text": [
      "(0.841866143517, 0.84270079294971478, -0.00083464943271482905)\n"
     ]
    }
   ],
   "source": [
    "%matplotlib inline\n",
    "import os\n",
    "import math\n",
    "from math import pi\n",
    "from math import sqrt\n",
    "import matplotlib\n",
    "import matplotlib.pyplot as plt\n",
    "import numpy as np\n",
    "import scipy.special\n",
    "errfunction=0.841866143517\n",
    "dev=errfunction-scipy.special.erf(1)\n",
    "print(errfunction, scipy.special.erf(1),dev)"
   ]
  },
  {
   "cell_type": "markdown",
   "metadata": {},
   "source": [
    "<b>ERRO</b>\n",
    "\n",
    "Pode ser demonstrado que o erro é da ordem de (quando $N \\to \\infty$:\n",
    "    \n",
    "$\\displaystyle erro=-\\frac{(b-a)^2}{12N^2} \\big[ f'(b)-f'(a) \\big] + O(N^{-3})$.\n",
    "\n",
    "Sabendo que a derivada da nossa função é:\n",
    "\n",
    "$\\displaystyle \\frac{df(x)}{dt}=-2xe^{-x^2}$\n",
    "\n",
    "Podemos estimar o erro:\n"
   ]
  },
  {
   "cell_type": "code",
   "execution_count": 77,
   "metadata": {},
   "outputs": [
    {
     "name": "stdout",
     "output_type": "stream",
     "text": [
      "('erro', 1.9700236862476927e-06)\n"
     ]
    }
   ],
   "source": [
    "%matplotlib inline\n",
    "import os\n",
    "import math\n",
    "from math import pi\n",
    "from math import sqrt\n",
    "import matplotlib\n",
    "import matplotlib.pyplot as plt\n",
    "import numpy as np\n",
    "import scipy\n",
    "a=-1.\n",
    "b=1.\n",
    "N=500\n",
    "deva=-2*a*math.exp(-a**2)\n",
    "devb=-2*b*math.exp(-b**2)\n",
    "factor=(b-a)**2/(12*N**2)\n",
    "erro=-factor*(devb-deva)+N**(-3)\n",
    "print(\"erro\",erro)\n",
    "\n"
   ]
  },
  {
   "cell_type": "markdown",
   "metadata": {},
   "source": [
    "Para se ver como é a erf(x):"
   ]
  },
  {
   "cell_type": "code",
   "execution_count": 88,
   "metadata": {},
   "outputs": [
    {
     "data": {
      "text/plain": [
       "[<matplotlib.lines.Line2D at 0x1104958d0>]"
      ]
     },
     "execution_count": 88,
     "metadata": {},
     "output_type": "execute_result"
    },
    {
     "data": {
      "image/png": "[encoded data removed]",
      "text/plain": [
       "<Figure size 432x288 with 1 Axes>"
      ]
     },
     "metadata": {
      "needs_background": "light"
     },
     "output_type": "display_data"
    }
   ],
   "source": [
    "%matplotlib inline\n",
    "import matplotlib.pyplot as plt\n",
    "import numpy as np\n",
    "import scipy.special\n",
    "x = np.arange(-2,2,0.1)   # start,stop,step\n",
    "y = scipy.special.erf(x)\n",
    "plt.plot(x,y)"
   ]
  },
  {
   "cell_type": "code",
   "execution_count": null,
   "metadata": {},
   "outputs": [],
   "source": []
  }
 ],
 "metadata": {
  "kernelspec": {
   "display_name": "Python 2",
   "language": "python",
   "name": "python2"
  },
  "language_info": {
   "codemirror_mode": {
    "name": "ipython",
    "version": 2
   },
   "file_extension": ".py",
   "mimetype": "text/x-python",
   "name": "python",
   "nbconvert_exporter": "python",
   "pygments_lexer": "ipython2",
   "version": "2.7.16"
  }
 },
 "nbformat": 4,
 "nbformat_minor": 2
}
