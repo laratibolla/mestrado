{
 "cells": [
  {
   "cell_type": "markdown",
   "metadata": {},
   "source": [
    "<b>CÁLCULO NUMÉRICO DA DOSE EFECTIVA DE UMA RADIOGRAFIA DO TÓRAX</b>\n",
    "\n",
    "Vamos em primeiro lugar calcular a dose à entrada da pele (ESD), a partir da expressão dada em [1]:\n",
    "\n",
    "$\\displaystyle DEP(mGy)=D_0(mGy/mAs)\\times(\\frac{U(KVp)}{80})^2\\times I(mAs)\\times (\\frac{1}{DFP})^2\\times F_{rd}$\n",
    "\n",
    "Considerando que:\n",
    "- medimos um débito de dose $D_0$ a 1 m do foco a uma tensão de 80 kVp de $81,1\\pm 4.1 \\mu Gy/mAs$;\n",
    "- A distância DFP (distância foco-paciente) é dada por: $DFP=DFR-DPR-espessura$, onde DFR é a distância do foco ao receptor, DPR a distância do potter ao receptor, e a espessura é a espessura média do paciente.\n",
    "- Utilizamos uma tensão de 120KVp (o que dá um factor de retrodispersão $F_{rd}$ de 1.5) e uma potência de 60 mAs.\n",
    "\n",
    "\n",
    "\n",
    "\n"
   ]
  },
  {
   "cell_type": "code",
   "execution_count": 28,
   "metadata": {},
   "outputs": [
    {
     "name": "stdout",
     "output_type": "stream",
     "text": [
      "('DEP', 1.1803973290974565)\n"
     ]
    }
   ],
   "source": [
    "import matplotlib.pyplot as plt\n",
    "import numpy as np\n",
    "D0=0.0811\n",
    "DPR=0.04\n",
    "esp=0.23\n",
    "DFR=4.\n",
    "I=60.\n",
    "U1=120.\n",
    "Frd=1.5\n",
    "DFP=DFR-DPR-esp\n",
    "DEP=D0*(U1/80)**2*I*((1/DFP)**2)*Frd\n",
    "print(\"DEP\",DEP)"
   ]
  },
  {
   "cell_type": "markdown",
   "metadata": {},
   "source": [
    "Ou seja, obtivemos um valor de DEP de cerca de 1,18 mGy. Vamos agora determinar o valor da Dose efectiva utilizando a expressão de [2]\n",
    "\n",
    "$\\displaystyle DE=0.130 DEP$\n"
   ]
  },
  {
   "cell_type": "code",
   "execution_count": 29,
   "metadata": {},
   "outputs": [
    {
     "name": "stdout",
     "output_type": "stream",
     "text": [
      "('DE', 0.1534)\n"
     ]
    }
   ],
   "source": [
    "import matplotlib.pyplot as plt\n",
    "import numpy as np\n",
    "DEP=1.18\n",
    "FC=0.13\n",
    "DE=FC*DEP\n",
    "print(\"DE\",DE)"
   ]
  },
  {
   "cell_type": "markdown",
   "metadata": {},
   "source": [
    "A dose efectiva é então de 0,153 mSv."
   ]
  },
  {
   "cell_type": "markdown",
   "metadata": {},
   "source": [
    "<b>REFERÊNCIAS</b>:\n",
    "\n",
    "[1] Toivonen M (2001) Patient dosimetry protocols in digital and interventional radiology Radiat Prot Dosim. 94, 1-2:105-108  \n",
    "[2] Suliman I.I., Habbani F.I. (2007) Effective Dose Calculations in Conventional Diagnostic X-Ray Examinations for Patients in Major Sudanese Hospitals. In: Magjarevic R., Nagel J.H. (eds) World Congress on Medical Physics and Biomedical Engineering 2006. IFMBE Proceedings, vol 14. Springer, Berlin, Heidelberg\n"
   ]
  },
  {
   "cell_type": "code",
   "execution_count": null,
   "metadata": {},
   "outputs": [],
   "source": []
  }
 ],
 "metadata": {
  "kernelspec": {
   "display_name": "Python 2",
   "language": "python",
   "name": "python2"
  },
  "language_info": {
   "codemirror_mode": {
    "name": "ipython",
    "version": 2
   },
   "file_extension": ".py",
   "mimetype": "text/x-python",
   "name": "python",
   "nbconvert_exporter": "python",
   "pygments_lexer": "ipython2",
   "version": "2.7.16"
  }
 },
 "nbformat": 4,
 "nbformat_minor": 2
}
