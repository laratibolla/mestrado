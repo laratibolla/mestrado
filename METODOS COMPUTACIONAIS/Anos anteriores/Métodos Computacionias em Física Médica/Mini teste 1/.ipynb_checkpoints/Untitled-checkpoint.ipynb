{
 "cells": [
  {
   "cell_type": "code",
   "execution_count": 9,
   "metadata": {},
   "outputs": [
    {
     "name": "stdout",
     "output_type": "stream",
     "text": [
      "Probabilidade de x é 0.20507812500000022.\n",
      "Probabilidade de y é 0.828125.\n",
      "Probabilidade de z é 0.171875.\n"
     ]
    }
   ],
   "source": [
    "import numpy as np\n",
    "import math\n",
    "from scipy.stats import binom\n",
    "\n",
    "#Distribuição Binomial,\n",
    "#binom.pmf(k, n, p), k- nr de sucessos, n - nr de tentativas, p- probabilidade de sucesso\n",
    "#pmf-probability mass function; cdf-cumulative distribution function\n",
    "\n",
    "x=binom.pmf(6,10,0.50) #utiliza-se para o evento exato de k \n",
    "y=binom.cdf(6,10,0.50) # probabilidade cumulativa ATÉ ao evento máximo 6 (P(k=0) --> P(k=6))\n",
    "z=1-binom.cdf(6,10,0.50) # probabilidade cumulativa de pelo menos o evento 6 (1 - P(k=5))\n",
    "\n",
    "print(\"Probabilidade de x é %s.\" %x)\n",
    "print(\"Probabilidade de y é %s.\" %y)\n",
    "print(\"Probabilidade de z é %s.\" %z)"
   ]
  },
  {
   "cell_type": "code",
   "execution_count": 11,
   "metadata": {},
   "outputs": [
    {
     "name": "stdout",
     "output_type": "stream",
     "text": [
      "Probabilidade de x é 0.18044704431548356.\n",
      "Probabilidade de y é 0.857123460498547.\n",
      "Probabilidade de z é 0.14287653950145296.\n"
     ]
    }
   ],
   "source": [
    "import numpy as np\n",
    "import math\n",
    "from scipy.stats import poisson\n",
    "\n",
    "#Distribuição Poisson \n",
    "#poisson.pmf(k, mu), sendo k o \"número de sucessos\", mu a média\n",
    "\n",
    "x=poisson.pmf(3,2) # Evento exato de k \n",
    "y=poisson.cdf(3,2) # p. cumulativa ATÉ ao evento máximo k\n",
    "z=1-poisson.cdf(3,2) # p. cumulativa de pelo menos o evento máximo k (1 - P(k=(k-1)))\n",
    "\n",
    "print(\"Probabilidade de x é %s.\" %x)\n",
    "print(\"Probabilidade de y é %s.\" %y)\n",
    "print(\"Probabilidade de z é %s.\" %z)\n",
    "\n"
   ]
  },
  {
   "cell_type": "code",
   "execution_count": 8,
   "metadata": {},
   "outputs": [
    {
     "name": "stdout",
     "output_type": "stream",
     "text": [
      "Probabilidade de x é 0.18997251447687272.\n",
      "Probabilidade de y é 0.5.\n",
      "Intervalo do meio para a esquerda é 4.211638445259519.\n",
      "Intervalo do meio para a direita é 8.38836155474048.\n",
      "           \n",
      "Intervalo de valores onde se encontram 68% dos resultados (4.2, 8.4)\n",
      "Intervalo de valores onde se encontram 95% dos resultados (2.1, 10.5)\n",
      "Intervalo de valores onde se encontram 99,7% dos resultados (-0.0, 12.6)\n"
     ]
    }
   ],
   "source": [
    "import numpy as np\n",
    "import math\n",
    "from scipy.stats import norm\n",
    "\n",
    "\n",
    "#Gaussiana \n",
    "#norm.pdf()\n",
    " \n",
    "x=norm.pdf(6.3,6.3,2.1)   #ser igual \n",
    "y=norm.cdf(6.3,6.3,2.1)   #ser menor ou igual a 6.3 que corresponde a 50%; simetria gráfico\n",
    "z=norm.ppf(0.16,6.3,2.1)  #0.16 corresponde a [0.50(onde está a mediana)-(0.68/2)] do meio para a esquerda\n",
    "z1=norm.ppf(0.84,6.3,2.1)  #em 0.68/2; para a direita seria 0.50+(0.68/2) = 0.84\n",
    "\n",
    "print(\"Probabilidade de x é %s.\" %x)\n",
    "print(\"Probabilidade de y é %s.\" %y)\n",
    "print(\"Intervalo do meio para a esquerda é %s.\" %z)\n",
    "print(\"Intervalo do meio para a direita é %s.\" %z1)\n",
    "print(\"           \")\n",
    "\n",
    "#intervalos\n",
    "m=6.3    #média\n",
    "d=2.1    #desvio padrão\n",
    "\n",
    "x1=(round(m-d,1),round(m+d,1))\n",
    "x2=(round(m-2*d,1),round(m+2*d,1))\n",
    "x3=(round(m-3*d,1),round(m+3*d,1))\n",
    "print(\"Intervalo de valores onde se encontram 68% dos resultados\", x1)\n",
    "print(\"Intervalo de valores onde se encontram 95% dos resultados\", x2)\n",
    "print(\"Intervalo de valores onde se encontram 99,7% dos resultados\", x3)\n",
    "\n"
   ]
  },
  {
   "cell_type": "code",
   "execution_count": null,
   "metadata": {},
   "outputs": [],
   "source": []
  },
  {
   "cell_type": "code",
   "execution_count": null,
   "metadata": {},
   "outputs": [],
   "source": []
  }
 ],
 "metadata": {
  "kernelspec": {
   "display_name": "Python 3",
   "language": "python",
   "name": "python3"
  },
  "language_info": {
   "codemirror_mode": {
    "name": "ipython",
    "version": 3
   },
   "file_extension": ".py",
   "mimetype": "text/x-python",
   "name": "python",
   "nbconvert_exporter": "python",
   "pygments_lexer": "ipython3",
   "version": "3.7.6"
  }
 },
 "nbformat": 4,
 "nbformat_minor": 4
}
