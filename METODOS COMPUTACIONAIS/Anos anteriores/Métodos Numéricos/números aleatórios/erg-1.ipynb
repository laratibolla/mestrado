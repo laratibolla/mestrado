{
 "cells": [
  {
   "cell_type": "code",
   "execution_count": 5,
   "metadata": {},
   "outputs": [],
   "source": [
    "%matplotlib inline\n",
    "import os\n",
    "import numpy as np\n",
    "import math\n",
    "import matplotlib.pyplot as plt \n",
    "import pandas as pd\n",
    "from random import random"
   ]
  },
  {
   "cell_type": "code",
   "execution_count": 61,
   "metadata": {},
   "outputs": [],
   "source": [
    "def energia_inc(l,N):\n",
    "    x = np.arange(0,8,0.01)\n",
    "    E_amostra = []\n",
    "    u1_amostra = []\n",
    "    p_E_norm = l*np.exp(-l*x)\n",
    "    #cdf_E = 1-np.exp(-l*x)\n",
    "    for i in range (N):\n",
    "        u1 = random()\n",
    "        u1_amostra.append(u1)\n",
    "        E = -(1/l)*np.log(u1)\n",
    "        E_amostra.append(E)\n",
    "    #bins = np.arange(0,10,0.01)\n",
    "    dados={\"p(E)\":E_amostra}\n",
    "    plt.hist(E_amostra,density=True,bins=500,label=\"Amostra\",range=(0,8))\n",
    "    plt.plot(x,p_E_norm,label=\"p(E)\")\n",
    "    plt.legend()\n",
    "    plt.grid()"
   ]
  },
  {
   "cell_type": "code",
   "execution_count": 91,
   "metadata": {},
   "outputs": [],
   "source": [
    "def angulo_inc(N):\n",
    "    u2_amostra = []\n",
    "    p_ang = []\n",
    "    for i in range(N):\n",
    "        x = np.linspace(-np.pi/2,np.pi/2,N)\n",
    "        u2 = np.pi*random()-np.pi/2\n",
    "        u2_amostra.append(u2)\n",
    "        p_ang.append(1/np.pi)\n",
    "    plt.hist(u2_amostra,density=True,bins=100,label=\"Amostra\")\n",
    "    plt.plot(x,p_ang,label=\"p(theta)\") \n",
    "    plt.legend()\n",
    "    plt.grid()"
   ]
  },
  {
   "cell_type": "code",
   "execution_count": 92,
   "metadata": {},
   "outputs": [
    {
     "data": {
      "image/png": "[encoded data removed]",
      "text/plain": [
       "<Figure size 432x288 with 1 Axes>"
      ]
     },
     "metadata": {
      "needs_background": "light"
     },
     "output_type": "display_data"
    }
   ],
   "source": [
    "energia_inc(0.511,50000)"
   ]
  },
  {
   "cell_type": "code",
   "execution_count": 93,
   "metadata": {},
   "outputs": [
    {
     "data": {
      "image/png": "[encoded data removed]",
      "text/plain": [
       "<Figure size 432x288 with 1 Axes>"
      ]
     },
     "metadata": {
      "needs_background": "light"
     },
     "output_type": "display_data"
    }
   ],
   "source": [
    "angulo_inc(100000)"
   ]
  },
  {
   "cell_type": "code",
   "execution_count": 97,
   "metadata": {},
   "outputs": [
    {
     "name": "stdout",
     "output_type": "stream",
     "text": [
      "O valor expectável é  0.7211931269505525\n",
      "A variância é  0.0610831719131637\n",
      "O desvio-padrão é  0.24715009996591888\n",
      "O erro-padrão é  0.000781557239830607\n"
     ]
    }
   ],
   "source": [
    "N = 10**5\n",
    "E_abs_amostra = []\n",
    "for i in range(N):\n",
    "    u1 = random()\n",
    "    E = -(1/0.511)*np.log(u1)\n",
    "    theta = np.pi*random()-np.pi/2\n",
    "    E_abs = 1/(1+E*(1-np.cos(theta)))\n",
    "    E_abs_amostra.append(E_abs)\n",
    "\n",
    "E_abs_sqrd = []\n",
    "for k in range(N):\n",
    "    E_abs_sqrd.append(E_abs_amostra[k]**2)\n",
    "valor_expectavel = sum(E_abs_amostra)/N\n",
    "var = sum(E_abs_sqrd)/N - valor_expectavel**2\n",
    "desv_pad = var**0.5\n",
    "erro_pad = desv_pad/N**0.5\n",
    "\n",
    "print(\"O valor expectável é \",valor_expectavel)\n",
    "print(\"A variância é \",var)\n",
    "print(\"O desvio-padrão é \",desv_pad)\n",
    "print(\"O erro-padrão é \",erro_pad)"
   ]
  },
  {
   "cell_type": "code",
   "execution_count": null,
   "metadata": {},
   "outputs": [],
   "source": []
  }
 ],
 "metadata": {
  "kernelspec": {
   "display_name": "Python 3",
   "language": "python",
   "name": "python3"
  },
  "language_info": {
   "codemirror_mode": {
    "name": "ipython",
    "version": 3
   },
   "file_extension": ".py",
   "mimetype": "text/x-python",
   "name": "python",
   "nbconvert_exporter": "python",
   "pygments_lexer": "ipython3",
   "version": "3.6.3"
  }
 },
 "nbformat": 4,
 "nbformat_minor": 4
}
