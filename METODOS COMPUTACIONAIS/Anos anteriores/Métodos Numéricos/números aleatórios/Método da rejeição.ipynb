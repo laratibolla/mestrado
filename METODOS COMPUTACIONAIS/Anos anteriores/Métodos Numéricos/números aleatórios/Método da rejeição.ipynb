{
 "cells": [
  {
   "cell_type": "markdown",
   "metadata": {},
   "source": [
    "<b>Método da rejeição</b>\n",
    "\n",
    "Vamos amostrar uma função exponencial $f(x)=e^{-x}$ a partir de uma distribuição uniforme $g(x)=c\\cdot x$"
   ]
  },
  {
   "cell_type": "code",
   "execution_count": 63,
   "metadata": {},
   "outputs": [
    {
     "data": {
      "image/png": "[encoded data removed]",
      "text/plain": [
       "<matplotlib.figure.Figure at 0x1f8e7acf320>"
      ]
     },
     "metadata": {},
     "output_type": "display_data"
    }
   ],
   "source": [
    "%matplotlib inline\n",
    "import os\n",
    "import numpy as np\n",
    "import math\n",
    "import matplotlib.pyplot as plt \n",
    "import pandas as pd\n",
    "from random import random\n",
    "from scipy.stats import norm\n",
    "amostra=[]\n",
    "amostra2=[]\n",
    "x=[]\n",
    "n=80000000\n",
    "j=0\n",
    "for i in range(1,n):\n",
    "    x1=10*random()\n",
    "    f=math.exp(-x1)\n",
    "    y=1*random()\n",
    "    if y <= f:\n",
    "        j+=1\n",
    "        amostra.append(x1)\n",
    "        x.append(j)\n",
    "#plt.plot(x,amostra,'-o')\n",
    "dados={'y':amostra}\n",
    "bins=np.arange(0,10,.01)\n",
    "df=pd.DataFrame(data=dados).hist(bins=bins)  "
   ]
  },
  {
   "cell_type": "markdown",
   "metadata": {},
   "source": [
    "Para uma gaussiana numa caixa:"
   ]
  },
  {
   "cell_type": "code",
   "execution_count": 65,
   "metadata": {},
   "outputs": [
    {
     "data": {
      "image/png": "[encoded data removed]",
      "text/plain": [
       "<matplotlib.figure.Figure at 0x1f8e7cd2518>"
      ]
     },
     "metadata": {},
     "output_type": "display_data"
    }
   ],
   "source": [
    "%matplotlib inline\n",
    "import os\n",
    "import numpy as np\n",
    "import math\n",
    "import matplotlib.pyplot as plt \n",
    "import pandas as pd\n",
    "from random import random\n",
    "from scipy.stats import norm\n",
    "amostra=[]\n",
    "amostra2=[]\n",
    "x=[]\n",
    "n=800000\n",
    "j=0\n",
    "for i in range(1,n):\n",
    "    x1=random()\n",
    "    y=2*random()\n",
    "    u=norm.pdf(x1,0.5,0.2)\n",
    "    if y<=u:\n",
    "        amostra.append(x1)\n",
    "dados={'y':amostra}\n",
    "bins=np.arange(0,1,.01)\n",
    "df=pd.DataFrame(data=dados).hist(bins=bins)  "
   ]
  }
 ],
 "metadata": {
  "kernelspec": {
   "display_name": "Python 3",
   "language": "python",
   "name": "python3"
  },
  "language_info": {
   "codemirror_mode": {
    "name": "ipython",
    "version": 3
   },
   "file_extension": ".py",
   "mimetype": "text/x-python",
   "name": "python",
   "nbconvert_exporter": "python",
   "pygments_lexer": "ipython3",
   "version": "3.6.3"
  }
 },
 "nbformat": 4,
 "nbformat_minor": 4
}
