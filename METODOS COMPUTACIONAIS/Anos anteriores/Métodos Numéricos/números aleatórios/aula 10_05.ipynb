{
 "cells": [
  {
   "cell_type": "markdown",
   "metadata": {},
   "source": [
    "## folha 5\n",
    "- exercicio 5"
   ]
  },
  {
   "cell_type": "code",
   "execution_count": 1,
   "metadata": {},
   "outputs": [
    {
     "data": {
      "image/png": "[encoded data removed]",
      "text/plain": [
       "<matplotlib.figure.Figure at 0x149a06b0518>"
      ]
     },
     "metadata": {},
     "output_type": "display_data"
    }
   ],
   "source": [
    "%matplotlib inline\n",
    "import os\n",
    "import numpy as np\n",
    "import math\n",
    "import matplotlib.pyplot as plt \n",
    "import pandas as pd\n",
    "from random import random\n",
    "amostra=[]\n",
    "x=[]\n",
    "n=100000\n",
    "mu=0.5\n",
    "g=0.2\n",
    "\n",
    "for i in range(1,n):\n",
    "    u=random()\n",
    "    y=mu+g*math.tan(math.pi*(u-0.5))\n",
    "    x.append(i) #lista com os valores de x\n",
    "    amostra.append(y) #lista com os valores de y\n",
    "    \n",
    "dados={'y':amostra} #dicionário\n",
    "bins=np.arange(-1,4,.01)\n",
    "df=pd.DataFrame(data=dados).hist(bins=bins)"
   ]
  },
  {
   "cell_type": "markdown",
   "metadata": {},
   "source": [
    "## folha 5\n",
    " - exercicio 6"
   ]
  },
  {
   "cell_type": "code",
   "execution_count": 8,
   "metadata": {},
   "outputs": [
    {
     "name": "stderr",
     "output_type": "stream",
     "text": [
      "C:\\Users\\Utilizador\\Anaconda3\\lib\\site-packages\\ipykernel_launcher.py:34: RuntimeWarning: invalid value encountered in sqrt\n"
     ]
    },
    {
     "ename": "NameError",
     "evalue": "name 'ax' is not defined",
     "output_type": "error",
     "traceback": [
      "\u001b[1;31m---------------------------------------------------------------------------\u001b[0m",
      "\u001b[1;31mNameError\u001b[0m                                 Traceback (most recent call last)",
      "\u001b[1;32m<ipython-input-8-0aae35df2908>\u001b[0m in \u001b[0;36m<module>\u001b[1;34m()\u001b[0m\n\u001b[0;32m     35\u001b[0m     \u001b[0mx\u001b[0m\u001b[1;33m.\u001b[0m\u001b[0mappend\u001b[0m\u001b[1;33m(\u001b[0m\u001b[0mi\u001b[0m\u001b[1;33m)\u001b[0m\u001b[1;33m\u001b[0m\u001b[0m\n\u001b[0;32m     36\u001b[0m     \u001b[0my\u001b[0m\u001b[1;33m.\u001b[0m\u001b[0mappend\u001b[0m\u001b[1;33m(\u001b[0m\u001b[0mx0\u001b[0m\u001b[1;33m)\u001b[0m\u001b[1;33m\u001b[0m\u001b[0m\n\u001b[1;32m---> 37\u001b[1;33m \u001b[0max\u001b[0m\u001b[1;33m.\u001b[0m\u001b[0mscatter\u001b[0m\u001b[1;33m(\u001b[0m\u001b[0mx\u001b[0m\u001b[1;33m,\u001b[0m\u001b[0my\u001b[0m\u001b[1;33m)\u001b[0m \u001b[1;31m#para uma dimensaõa\u001b[0m\u001b[1;33m\u001b[0m\u001b[0m\n\u001b[0m\u001b[0;32m     38\u001b[0m \u001b[1;33m\u001b[0m\u001b[0m\n\u001b[0;32m     39\u001b[0m \u001b[1;33m\u001b[0m\u001b[0m\n",
      "\u001b[1;31mNameError\u001b[0m: name 'ax' is not defined"
     ]
    }
   ],
   "source": [
    "%matplotlib inline\n",
    "import os\n",
    "import numpy as np\n",
    "import math\n",
    "import matplotlib.pyplot as plt \n",
    "import pandas as pd\n",
    "from random import random\n",
    "from scipy import special\n",
    "amostra1=[]\n",
    "amostra2=[]\n",
    "\n",
    "N=100\n",
    "T=1\n",
    "dt=T/N-1\n",
    "mu=0\n",
    "sigma=1\n",
    "x0=0.3\n",
    "x=[0]\n",
    "y=[x0]\n",
    "k=1000\n",
    "for i in range(0,k):\n",
    "    r1=-1+2*random()\n",
    "    r2=-1+2*random()\n",
    "    s=r1**2+r2**2\n",
    "    if s!=0 and s<=1:\n",
    "        s1=-2*math.log(s)/s\n",
    "        z1=r1*s1**0.5\n",
    "        z2=r2*s1**0.5\n",
    "        amostra1.append(z1)\n",
    "        amostra2.append(z2)\n",
    "        x.append(i)\n",
    "    \n",
    "for i in range(1,N):\n",
    "    x0=x0+np.sqrt(dt)*amostra1[i]\n",
    "    x.append(i)\n",
    "    y.append(x0)\n",
    "ax.scatter(x,y) #para uma dimensaõa\n",
    "\n",
    "\n",
    "    \n",
    "    \n",
    "    \n",
    "    \n",
    "#dados={'y':amostra} #dicionário\n",
    "#bins=np.arange(-1,4,.01)\n",
    "#df=pd.DataFrame(data=dados).hist(bins=bins)"
   ]
  },
  {
   "cell_type": "code",
   "execution_count": 11,
   "metadata": {},
   "outputs": [
    {
     "name": "stderr",
     "output_type": "stream",
     "text": [
      "C:\\Users\\Utilizador\\Anaconda3\\lib\\site-packages\\ipykernel_launcher.py:37: RuntimeWarning: invalid value encountered in sqrt\n",
      "C:\\Users\\Utilizador\\Anaconda3\\lib\\site-packages\\ipykernel_launcher.py:38: RuntimeWarning: invalid value encountered in sqrt\n"
     ]
    },
    {
     "ename": "NameError",
     "evalue": "name 'ax' is not defined",
     "output_type": "error",
     "traceback": [
      "\u001b[1;31m---------------------------------------------------------------------------\u001b[0m",
      "\u001b[1;31mNameError\u001b[0m                                 Traceback (most recent call last)",
      "\u001b[1;32m<ipython-input-11-a27544b2234d>\u001b[0m in \u001b[0;36m<module>\u001b[1;34m()\u001b[0m\n\u001b[0;32m     39\u001b[0m     \u001b[0mx\u001b[0m\u001b[1;33m.\u001b[0m\u001b[0mappend\u001b[0m\u001b[1;33m(\u001b[0m\u001b[0mi\u001b[0m\u001b[1;33m)\u001b[0m\u001b[1;33m\u001b[0m\u001b[0m\n\u001b[0;32m     40\u001b[0m     \u001b[0my\u001b[0m\u001b[1;33m.\u001b[0m\u001b[0mappend\u001b[0m\u001b[1;33m(\u001b[0m\u001b[0mx0\u001b[0m\u001b[1;33m)\u001b[0m\u001b[1;33m\u001b[0m\u001b[0m\n\u001b[1;32m---> 41\u001b[1;33m \u001b[0max\u001b[0m\u001b[1;33m.\u001b[0m\u001b[0mplot\u001b[0m\u001b[1;33m(\u001b[0m\u001b[0mx\u001b[0m\u001b[1;33m,\u001b[0m\u001b[0my\u001b[0m\u001b[1;33m)\u001b[0m\u001b[1;33m\u001b[0m\u001b[0m\n\u001b[0m",
      "\u001b[1;31mNameError\u001b[0m: name 'ax' is not defined"
     ]
    }
   ],
   "source": [
    "%matplotlib inline\n",
    "import os\n",
    "import numpy as np\n",
    "import math\n",
    "import matplotlib.pyplot as plt \n",
    "import pandas as pd\n",
    "from random import random\n",
    "from scipy import special\n",
    "amostra1=[]\n",
    "amostra2=[]\n",
    "\n",
    "N=100\n",
    "T=1\n",
    "dt=T/N-1\n",
    "mu=0\n",
    "sigma=1\n",
    "x0=0.3\n",
    "x=[0]\n",
    "####y0=0 ????????????\n",
    "y=[x0]\n",
    "k=1000\n",
    "for i in range(0,k):\n",
    "    r1=-1+2*random()\n",
    "    r2=-1+2*random()\n",
    "    s=r1**2+r2**2\n",
    "    if s!=0 and s<=1:\n",
    "        s1=-2*math.log(s)/s\n",
    "        z1=r1*s1**0.5\n",
    "        z2=r2*s1**0.5\n",
    "        amostra1.append(z1)\n",
    "        amostra2.append(z2)\n",
    "        x.append(i)\n",
    "\n",
    "\n",
    "#para 2 dimensoes\n",
    "for i in range(1,N):\n",
    "    x0=x0+np.sqrt(dt)*amostra1[i]\n",
    "    y0=y0+np.sqrt(dt)*amostra2[i]\n",
    "    x.append(i)\n",
    "    y.append(x0)\n",
    "ax.plot(x,y)"
   ]
  },
  {
   "cell_type": "markdown",
   "metadata": {},
   "source": [
    "## folha 6\n",
    " - exercicio 1"
   ]
  },
  {
   "cell_type": "code",
   "execution_count": 16,
   "metadata": {},
   "outputs": [
    {
     "data": {
      "text/plain": [
       "3.8823605917105778e-09"
      ]
     },
     "execution_count": 16,
     "metadata": {},
     "output_type": "execute_result"
    }
   ],
   "source": [
    "%matplotlib inline\n",
    "import os\n",
    "import numpy as np\n",
    "import math\n",
    "import matplotlib.pyplot as plt \n",
    "import pandas as pd\n",
    "from random import random\n",
    "from scipy import special\n",
    "Iexp=-(1/101**2)+1\n",
    "\n",
    "N=100000\n",
    "valores =[]\n",
    "\n",
    "for i in range(0,N,1):\n",
    "    u=10*random()\n",
    "    valores.append((4*u)/(u**2+1)**3)\n",
    "I=sum(valores*10)/N\n",
    "    \n",
    "    \n",
    "#var=\n",
    "\n",
    "#dp=var**0.5\n",
    "#erro=dp/N**0.5\n",
    "#desvio=((I-Iexp)/I)*100\n",
    "I"
   ]
  },
  {
   "cell_type": "code",
   "execution_count": null,
   "metadata": {},
   "outputs": [],
   "source": []
  }
 ],
 "metadata": {
  "kernelspec": {
   "display_name": "Python 3",
   "language": "python",
   "name": "python3"
  },
  "language_info": {
   "codemirror_mode": {
    "name": "ipython",
    "version": 3
   },
   "file_extension": ".py",
   "mimetype": "text/x-python",
   "name": "python",
   "nbconvert_exporter": "python",
   "pygments_lexer": "ipython3",
   "version": "3.6.3"
  }
 },
 "nbformat": 4,
 "nbformat_minor": 2
}
