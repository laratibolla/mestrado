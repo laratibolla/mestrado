{
 "cells": [
  {
   "cell_type": "markdown",
   "metadata": {},
   "source": [
    "<b>CÁLCULO DE INTEGRAIS USANDO MONTE CARLO</b>\n",
    "\n",
    "1. Métodos de Monte Carlo para cálculo de integrais\n",
    "\n",
    "1.1. Cálculo do integral $f(x)=x^2$, $0\\leq x\\leq 4$ usando técnicas de Monte-Carlo.\n",
    "\n",
    "Podemos utilizar amostras de números aleatórios para fazer cálculos de integrais. A ideia é muito simples. Imaginemos que pretendemos calcular o integral da função $f(x)=x^2$, entre 0 e 6.\n",
    "\n",
    "<center>$\\displaystyle I=\\int_{0}^6 x^2dx$</center>\n",
    "\n",
    "Este integral é fácil de calcular (faça-o numa folha à parte). Verá que o resultado será de $72$.\n",
    "\n",
    "Mas vamos imaginar que não sabemos calcular o valor do integral. Como calcular usando números aleatórios? Como sabemos, o cálculo de um integral corresponde ao cálculo da área por baixo da função. Uma primeira aproximação seria  correr dois números aleatórios $\\xi_1$ e $\\xi_2$ de 0 até 6, "
   ]
  },
  {
   "cell_type": "code",
   "execution_count": 1,
   "metadata": {},
   "outputs": [
    {
     "name": "stdout",
     "output_type": "stream",
     "text": [
      "0.8061854646744073\n",
      "5.084602421623396\n"
     ]
    }
   ],
   "source": [
    "# Script para determinar dois números aleatórios.\n",
    "%matplotlib inline\n",
    "from random import seed\n",
    "from random import random\n",
    "import os\n",
    "import os\n",
    "import math\n",
    "import matplotlib\n",
    "import matplotlib.pyplot as plt\n",
    "import numpy as np\n",
    "seed(1)\n",
    "xi1=6.0*random()\n",
    "xi2=6.0*random()\n",
    "print(xi1)\n",
    "print(xi2)"
   ]
  },
  {
   "cell_type": "markdown",
   "metadata": {},
   "source": [
    "determinar $f(\\xi_1)$ e $f(\\xi_2)$, e finalmente calcular o valor da área do rectângulo definido por cada um desses valores com altura $h_1=f(\\xi_1)$ e $h_2=f(\\xi_2)$ e largura de 0 até 4 ($l=4-0$):\n",
    "- $A_{\\xi_1}=l*h=(6-0)f(\\xi_1)$\n",
    "- $A_{\\xi_2}=l*h=(6-0)f(\\xi_2)$, "
   ]
  },
  {
   "cell_type": "markdown",
   "metadata": {},
   "source": [
    "fazer a média que será aproximadamente igual à area de I:\n",
    "\n",
    "$\\displaystyle I\\approx \\frac{1}{2}(A_{\\xi_1}+A_{\\xi_2})=\\frac{1}{2}(6-0)[f({\\xi_1})+f({\\xi_2})]$"
   ]
  },
  {
   "cell_type": "code",
   "execution_count": 19,
   "metadata": {},
   "outputs": [
    {
     "data": {
      "text/plain": [
       "Text(2, 28, 'area por baixo')"
      ]
     },
     "execution_count": 19,
     "metadata": {},
     "output_type": "execute_result"
    },
    {
     "data": {
      "image/png": "[encoded data removed]",
      "text/plain": [
       "<Figure size 864x288 with 2 Axes>"
      ]
     },
     "metadata": {
      "needs_background": "light"
     },
     "output_type": "display_data"
    }
   ],
   "source": [
    "# Script para determinar a área por baixo do número determinado em cima\n",
    "%matplotlib inline\n",
    "from random import seed\n",
    "from random import random\n",
    "import os\n",
    "import os\n",
    "import math\n",
    "import matplotlib\n",
    "import matplotlib.pyplot as plt\n",
    "import numpy as np\n",
    "xi1=0.8061854646744073\n",
    "xi2=5.084602421623396\n",
    "y1=[xi1**2]\n",
    "y2=[xi2**2]\n",
    "func = np.arange(0., 6., 0.01)\n",
    "for i in range(0,6,1):\n",
    "    y1.append(xi1**2)\n",
    "    y2.append(xi2**2)\n",
    "x1 = np.arange(len(y1))\n",
    "x2 = np.arange(len(y2))\n",
    "\n",
    "fig, (ax1, ax2) = plt.subplots(1,2, sharex=True,figsize=(12, 4))\n",
    "\n",
    "ax1.fill_between(x1, 0, y1)\n",
    "ax1.plot(func,func**2,color='orange')\n",
    "ax1.plot(xi1, xi1**2, 'or')\n",
    "ax1.axvline(x=xi1, ymin=0.05, ymax=xi1**2/0.5, color='black')\n",
    "ax1.set_ylabel('f(x)')\n",
    "ax1.set_xlabel('x')\n",
    "ax1.text(6.7, 10.5, r'+', fontsize=15)\n",
    "ax1.text(-2.5, 10.5, r'I = $\\frac{1}{2}$ $\\times$', fontsize=15)\n",
    "ax1.annotate('area por baixo', xy=(1.0, 1.5), xytext=(1.5, 2.0),\n",
    "             arrowprops=dict(facecolor='blue', shrink=0.05),\n",
    "             )\n",
    "\n",
    "ax2.plot(func,func**2,color='orange')\n",
    "ax2.fill_between(x2, 0, y2)\n",
    "ax2.plot(xi2, xi2**2, 'or')\n",
    "ax2.axvline(x=xi2, ymin=0.05, ymax=xi2**2/16.5, color='black')\n",
    "ax2.set_ylabel('f(x)')\n",
    "ax2.set_xlabel('x')\n",
    "ax2.annotate('area por baixo', xy=(5, 26), xytext=(2, 28),\n",
    "             arrowprops=dict(facecolor='blue', shrink=0.05),\n",
    "             )\n",
    "\n"
   ]
  },
  {
   "cell_type": "markdown",
   "metadata": {},
   "source": [
    "Como vemos esta primeira aproximação é muito fraca. Mas podemos fazer isso com três intervalos, quatro intervalos, etc. Graças à lei dos grandes números, quando o número de intervalos $N$ tender para infinito, o valor da nossa soma tenderá para o valor do integral."
   ]
  },
  {
   "cell_type": "code",
   "execution_count": 22,
   "metadata": {},
   "outputs": [
    {
     "name": "stdout",
     "output_type": "stream",
     "text": [
      "72.04517588526546\n"
     ]
    },
    {
     "data": {
      "text/plain": [
       "[<matplotlib.lines.Line2D at 0x119890bd0>]"
      ]
     },
     "execution_count": 22,
     "metadata": {},
     "output_type": "execute_result"
    },
    {
     "data": {
      "image/png": "[encoded data removed]",
      "text/plain": [
       "<Figure size 432x288 with 1 Axes>"
      ]
     },
     "metadata": {
      "needs_background": "light"
     },
     "output_type": "display_data"
    }
   ],
   "source": [
    "# Script para cálculo do integral de f(x)=x^2, 0<=x<=4 usando MC\n",
    "%matplotlib inline\n",
    "from random import seed\n",
    "from random import random\n",
    "import os\n",
    "import os\n",
    "import math\n",
    "from math import pi\n",
    "from math import sqrt\n",
    "import matplotlib\n",
    "import matplotlib.pyplot as plt\n",
    "import numpy as np\n",
    "#os.system('clear')\n",
    "# integrar usando números aleatorios x^2 de 0 a 4\n",
    "seed(1)\n",
    "x2=[0]\n",
    "y2=[0]\n",
    "res=[72]\n",
    "for N in range (1,5000,1):\n",
    "    x=0.00000000\n",
    "    a=72\n",
    "    total=0.00000\n",
    "    for i in range(N):\n",
    "        r=6.0*random()\n",
    "        x = x + r*r\n",
    "    os.system('clear')\n",
    "    float(total)\n",
    "    total = (6.0/N)*x \n",
    "    x2.append(N)\n",
    "    y2.append(total)\n",
    "    res.append(a)\n",
    "print(total)\n",
    "plt.plot(x2, y2,'-o')\n",
    "plt.plot(x2, res)\n",
    "# plt.show()\n",
    "\n",
    "\n",
    "\n"
   ]
  },
  {
   "cell_type": "markdown",
   "metadata": {},
   "source": [
    "Comentário: para a função $f(x)=x^2$, é fácil calcular analiticamente, o que acontece para integrais mais complicados?\n",
    "Exercício: calcular numericamente o integral $\\displaystyle \\int_{0}^{10} \\frac{4x}{(x^2+1)^3}dx$ usando a técnica de Monte Carlo"
   ]
  },
  {
   "cell_type": "code",
   "execution_count": null,
   "metadata": {},
   "outputs": [],
   "source": []
  }
 ],
 "metadata": {
  "kernelspec": {
   "display_name": "Python 3",
   "language": "python",
   "name": "python3"
  },
  "language_info": {
   "codemirror_mode": {
    "name": "ipython",
    "version": 3
   },
   "file_extension": ".py",
   "mimetype": "text/x-python",
   "name": "python",
   "nbconvert_exporter": "python",
   "pygments_lexer": "ipython3",
   "version": "3.6.3"
  }
 },
 "nbformat": 4,
 "nbformat_minor": 4
}
