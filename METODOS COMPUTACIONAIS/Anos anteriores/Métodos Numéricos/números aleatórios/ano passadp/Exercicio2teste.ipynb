{
 "cells": [
  {
   "cell_type": "markdown",
   "metadata": {},
   "source": [
    "**// Exercício2 : Cálculo do integral utilizando um método de monte carlo** \n",
    "\n",
    "-Para calcular o integral utilizando números aleatórios, basta pensar que o cálculo de um integral, corresponde ao cálculo da área por baixo da função  $I(x)$. Para isso, como primeira aproximação,o programa vai correr três números aleatórios a,b e c de 0 até 5.  \n",
    "\n",
    "-Cálculo do integral $I(x)=\\frac{x+1}{x+5}$,  $0\\leq x\\leq 5$ , utilizando as técnicas de Monte Carlo</li>. "
   ]
  },
  {
   "cell_type": "code",
   "execution_count": 24,
   "metadata": {},
   "outputs": [
    {
     "name": "stdout",
     "output_type": "stream",
     "text": [
      "Número aleatório é  0.6718212205620061\n",
      "Número aleatório é  4.237168684686163\n",
      "Número aleatório é  3.8188730948830703\n"
     ]
    }
   ],
   "source": [
    "# Cálculo dos números aleatórios,para o intervalo de 0 a 5\n",
    "from random import seed\n",
    "from random import random   #para poder calcular os números aleatórios \n",
    "import os\n",
    "import os\n",
    "import math\n",
    "import matplotlib\n",
    "import matplotlib.pyplot as plt\n",
    "import numpy as np\n",
    "\n",
    "#Vão ser calculados Ntotal=3 números aleatórios \n",
    "seed(1)\n",
    "a=5.0*random()     #cálculo dos números aleatórios num intervalo definido de 0 a 5\n",
    "b=5.0*random()     #random calcula os números aleatórios de 0 a 1, multiplicando por 5 obtémos a distribuição até 5.\n",
    "c=5.0*random() \n",
    "\n",
    "print(\"Número aleatório é \" ,a)\n",
    "print(\"Número aleatório é \" ,b)\n",
    "print(\"Número aleatório é \" ,c)"
   ]
  },
  {
   "cell_type": "markdown",
   "metadata": {},
   "source": [
    "**Calculo do integral, utilizando números aleatórios com método de monte carlo.**"
   ]
  },
  {
   "cell_type": "code",
   "execution_count": 27,
   "metadata": {},
   "outputs": [
    {
     "name": "stdout",
     "output_type": "stream",
     "text": [
      "Valor do integral real é  2.227\n",
      "-----método experimental-----\n",
      "Valor do integral calculado é  2.2517\n",
      "Erro do integral calculado relativamente ao teórico é  0.0247\n",
      "-----método melhorado----\n",
      "Valor do integral calculado é  2.2273\n",
      "Erro do integral calculado relativamente ao teórico é  0.0003\n"
     ]
    }
   ],
   "source": [
    "#Cálculo do integral y(x)=(x+1)/(x+5), 0<=x<=5 \n",
    "\n",
    "from random import seed\n",
    "from random import random   #para poder calcular os números aleatórios \n",
    "import os\n",
    "import os\n",
    "import math\n",
    "import matplotlib\n",
    "import matplotlib.pyplot as plt\n",
    "import numpy as np\n",
    "\n",
    "#area de um rectangulo = f(xrand)*(b-a), N vezes\n",
    "#o valor do integral sera a media desses valores quando N --> inf\n",
    "\n",
    "#Caso seja possível calcular o valor real do integral, pode ser feita a comparação entre os dois\n",
    "real= 2.227      #valor teórico real do integral\n",
    "print(\"Valor do integral real é \" ,round(real,4))\n",
    "\n",
    "seed(1)\n",
    "#Definição função y(x)=(x+1)/(x+5)\n",
    "def y(x): \n",
    "    return (x+1)/(x+5)\n",
    "\n",
    "#Valores respetivos aos limites inferior e superior do integral \n",
    "#Valor respetivo ao número total de iterações(=número de números aleatórios calculados)\n",
    "inf = 0 \n",
    "sup = 5\n",
    "Ntotalfraco =100\n",
    "Ntotalmelhor=10000000\n",
    "\n",
    "#Com o cálculo dos números aleatórios, será calculo o integral calculado pela soma dos valores dividindo pelo núemro\n",
    "#total de iterações, Ntotal\n",
    "\n",
    "somafraco= 0                                   #Para um número de simulações de números aleatórios N, são simulados N números\n",
    "for i in range(Ntotalfraco):                   #Quando maior o número de simulações mais o calculado se aproxima do real\n",
    "    aleatorio = 5.0*random()                   #É criado um número aleatório entre 0 e 5\n",
    "    somafraco = somafraco + y(aleatorio)       #soma começa em 0 e é calculado qual o valor da função relativamente \n",
    "                                               #a esse número aleatorio e é calculada a soma dos\n",
    "\n",
    "calculado = (sup-inf)*somafraco/Ntotalfraco   \n",
    "erro1=abs(calculado-real)\n",
    "print('-----método experimental-----')\n",
    "print(\"Valor do integral calculado é \" ,round(calculado,4))    #round(calculado,3), arredonda para 3 casas decimais \n",
    "print(\"Erro do integral calculado relativamente ao teórico é \" ,round(erro1,4))\n",
    "\n",
    "\n",
    "#Método melhorado com N maior, logo menor erro associado\n",
    "somamelhor = 0                             \n",
    "for i in range(Ntotalmelhor):        \n",
    "    aleatorio = 5.0*random()        \n",
    "    somamelhor = somamelhor + f(aleatorio)      \n",
    "                                     \n",
    "calculados = (sup-inf)*somamelhor/Ntotalmelhor   \n",
    "erro2=abs(calculados-real)\n",
    "print( '-----método melhorado----')\n",
    "print(\"Valor do integral calculado é \" ,round(calculados,4))    \n",
    "print(\"Erro do integral calculado relativamente ao teórico é \" ,round(erro2,4))\n"
   ]
  },
  {
   "cell_type": "code",
   "execution_count": null,
   "metadata": {},
   "outputs": [],
   "source": []
  }
 ],
 "metadata": {
  "kernelspec": {
   "display_name": "Python 3",
   "language": "python",
   "name": "python3"
  },
  "language_info": {
   "codemirror_mode": {
    "name": "ipython",
    "version": 3
   },
   "file_extension": ".py",
   "mimetype": "text/x-python",
   "name": "python",
   "nbconvert_exporter": "python",
   "pygments_lexer": "ipython3",
   "version": "3.7.6"
  }
 },
 "nbformat": 4,
 "nbformat_minor": 4
}
