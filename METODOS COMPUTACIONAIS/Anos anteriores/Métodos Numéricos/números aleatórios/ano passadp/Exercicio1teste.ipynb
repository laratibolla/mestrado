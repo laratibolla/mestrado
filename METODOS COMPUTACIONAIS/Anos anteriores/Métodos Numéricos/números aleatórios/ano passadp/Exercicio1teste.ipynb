{
 "cells": [
  {
   "cell_type": "markdown",
   "metadata": {},
   "source": [
    "//**Exercício 1: Utilizar método de monte carlo para calcular a área do triângulo, tendo em atenção que se deve utilizar a relação do ângulo do triângulo.**\n",
    "\n",
    "-Serão calculados números aleatórios dentro do retângulo, sendo que para os casos em que estão dentro do triângulo isso contribui para a soma da média da área, no caso em que estão fora não contabilizam para isso. "
   ]
  },
  {
   "cell_type": "code",
   "execution_count": 2,
   "metadata": {},
   "outputs": [
    {
     "name": "stdout",
     "output_type": "stream",
     "text": [
      "Área real do retângulo é  23.997\n",
      "      ------\n",
      "Área real do triângulo é  11.9985\n",
      "Area triangulo calculada =  11.99801\n",
      "Erro área =  0.00049\n"
     ]
    }
   ],
   "source": [
    "from random import seed\n",
    "import random   #para poder calcular os números aleatórios \n",
    "import os\n",
    "import math\n",
    "import matplotlib\n",
    "import matplotlib.pyplot as plt\n",
    "import numpy as np\n",
    "import pandas as pd \n",
    "\n",
    "seed(1)\n",
    "#Retângulo de comprimento b e altura a\n",
    "a= 4.21\n",
    "b= 5.7\n",
    "#b/2- Corresponde a metade do comprimento do triângulo\n",
    "\n",
    "#Área real\n",
    "Areat= b/2*a     #Área do triângulo \n",
    "Arear= b*a       #Área do retângulo \n",
    "print(\"Área real do retângulo é \" ,Arear)\n",
    "print('      ------')\n",
    "print(\"Área real do triângulo é \" ,round(Areat,5))\n",
    "\n",
    "#Triângulo é descrito por um ângulo, ang em radianos \n",
    "#ang, relaciona pelo teorema de pitágoras, b/2 com a altura do triângulo\n",
    "ang= np.arctan(a/(b/2)) #Radianos \n",
    "\n",
    "Ntotal= 5000000\n",
    "good= 0 #Variável good soma quantos números aleatórios satisfazem a condição de estar dentro do triângulo \n",
    "\n",
    "#Para um número total de iterações que varia de 0 até N, são calculos números aleatórios, originando pontos(x,y) \n",
    "#Se o x estiver antes do b/2, no caso de o angulo relativo a esse ponto ser menor ou igual a ang, então contabiliza p o triângulo\n",
    "#Se o x for > b/2, para considerar o ang corrtamente, tem de ser definida dist,\n",
    "#dist é a diferença entre o comp. do retângulo e o x aleatório, de forma a ser considerado o ang correto do triângulo \n",
    "#Calcula os numeros aleatorios de 0 até a random.uniform(0,a)\n",
    "\n",
    "for i in range(Ntotal):\n",
    "    xale, yale = random.uniform(0,b), random.uniform(0,a)\n",
    "    if xale <= b/2:\n",
    "        if np.arctan(yale/xale) <= ang:\n",
    "            good= good + 1\n",
    "    else:\n",
    "        dist= b - xale\n",
    "        if np.arctan(yale/dist) <= ang:\n",
    "            good = good + 1\n",
    "\n",
    "#Consoante o número de good, é feita uma razão entre good e Ntotal  \n",
    "#Tal vai permitir calcular a área do triângulo, multiplicando a razão pela área do retângulo \n",
    "razao= good/Ntotal\n",
    "Areacalculada = Arear*razao\n",
    "erro=abs(Areat-Areacalculada)\n",
    "print('Area triangulo calculada = ', round(Areacalculada,5))\n",
    "print('Erro área = ',round(erro,5))"
   ]
  },
  {
   "cell_type": "code",
   "execution_count": null,
   "metadata": {},
   "outputs": [],
   "source": []
  }
 ],
 "metadata": {
  "kernelspec": {
   "display_name": "Python 3",
   "language": "python",
   "name": "python3"
  },
  "language_info": {
   "codemirror_mode": {
    "name": "ipython",
    "version": 3
   },
   "file_extension": ".py",
   "mimetype": "text/x-python",
   "name": "python",
   "nbconvert_exporter": "python",
   "pygments_lexer": "ipython3",
   "version": "3.6.3"
  }
 },
 "nbformat": 4,
 "nbformat_minor": 4
}
