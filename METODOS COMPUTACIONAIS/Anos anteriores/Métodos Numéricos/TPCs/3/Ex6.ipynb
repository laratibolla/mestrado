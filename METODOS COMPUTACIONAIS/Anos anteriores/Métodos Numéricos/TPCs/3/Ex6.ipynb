{
 "cells": [
  {
   "cell_type": "markdown",
   "metadata": {},
   "source": [
    "<b>Folha 3 - Distribuições binomial, de Poisson e de Gauss </b>\n",
    "- Exercício 6\n",
    "\n",
    "Maria Inês Teixeira Gama - 20200315"
   ]
  },
  {
   "cell_type": "markdown",
   "metadata": {},
   "source": [
    "Esta variável segue uma distribuição binomial, uma vez que cumpre todos os requisitos: \n",
    "    - O número de testes é finito, sendo neste caso 50 pacientes;\n",
    "    - Só existem dois resultados possíveis a cada teste, receber a vacina ou receber placebo;\n",
    "    - Os resultados são independentes uns dos outros.\n",
    "<p> A sua representação gráfica é: </p>"
   ]
  },
  {
   "cell_type": "code",
   "execution_count": 7,
   "metadata": {},
   "outputs": [
    {
     "data": {
      "text/plain": [
       "<matplotlib.legend.Legend at 0x1f551581048>"
      ]
     },
     "execution_count": 7,
     "metadata": {},
     "output_type": "execute_result"
    },
    {
     "data": {
      "image/png": "[encoded data removed]",
      "text/plain": [
       "<matplotlib.figure.Figure at 0x1f54edd40b8>"
      ]
     },
     "metadata": {},
     "output_type": "display_data"
    }
   ],
   "source": [
    "%matplotlib inline\n",
    "import matplotlib.pyplot as plt \n",
    "import numpy as np\n",
    "from scipy.stats import binom  #módulo que possui a função binomial\n",
    "p=0.5\n",
    "n=15\n",
    "def f(k,n,p):\n",
    "    return binom.pmf(k,n,p)\n",
    "k = np.arange(0,15)\n",
    "plt.plot(k,f(k,n,p),'-*', label=\"p=0.5\",color=\"red\")\n",
    "plt.title(\"Distribuição binomial\")\n",
    "plt.legend()"
   ]
  },
  {
   "cell_type": "markdown",
   "metadata": {},
   "source": [
    "<b> alínea a) </b>"
   ]
  },
  {
   "cell_type": "code",
   "execution_count": 8,
   "metadata": {},
   "outputs": [
    {
     "name": "stdout",
     "output_type": "stream",
     "text": [
      "A probabilidade de 6 pessoas das 15 terem recebido a vacina é 15.27%\n"
     ]
    }
   ],
   "source": [
    "%matplotlib inline\n",
    "import os\n",
    "import matplotlib.pyplot as plt \n",
    "import numpy as np\n",
    "import math\n",
    "from scipy.stats import binom  #módulo que possui a função binomial\n",
    "p=0.5\n",
    "n=15 #numero de pacientes escolhidos\n",
    "k=6\n",
    "p=(binom.pmf(k,n,p))  #P[X=6]\n",
    "print(\"A probabilidade de 6 pessoas das 15 terem recebido a vacina é %.2f\" % (p*100) + \"%\")"
   ]
  },
  {
   "cell_type": "markdown",
   "metadata": {},
   "source": [
    "Esta probabilidade tanto pode ser calculada através da biblioteca scipy ou recorrendo à fórmula:\n",
    "$$P(k,n)=\\frac{n!}{k!(n-k)!}p^k(1-p)^{n-k}$$ <p> Então, através de código: </p>"
   ]
  },
  {
   "cell_type": "code",
   "execution_count": 9,
   "metadata": {},
   "outputs": [
    {
     "name": "stdout",
     "output_type": "stream",
     "text": [
      "A probabilidade de 6 pessoas das 15 terem recebido a vacina é 15.27%\n"
     ]
    }
   ],
   "source": [
    "%matplotlib inline\n",
    "import os\n",
    "import numpy as np\n",
    "import math\n",
    "import matplotlib.pyplot as plt \n",
    "def factorial(x):\n",
    "    factorial=1\n",
    "    for i in range(1,x+1):\n",
    "        factorial = factorial*i\n",
    "    return factorial\n",
    "def binomial(k, n, p):\n",
    "    binomial = factorial(n) / (factorial(k)*factorial(n-k))* p**k * (1 - p)**(n-k)\n",
    "    return binomial\n",
    "print(\"A probabilidade de 6 pessoas das 15 terem recebido a vacina é %.2f\" % (binomial(6,15,0.5)*100) + \"%\")"
   ]
  },
  {
   "cell_type": "markdown",
   "metadata": {},
   "source": [
    "<b> alínea b) </b>"
   ]
  },
  {
   "cell_type": "markdown",
   "metadata": {},
   "source": [
    "Para esta alínea temos de determinar a função de distribuição cumulativa, uma vez que pretendemos saber a probabilidade de 3 ou mais pessoas terem recebido a vacina.\n",
    "Da mesma forma, podemos reccorer às bibliotecas ou através de código, aplicando a seguinte fórmula:\n",
    "$$cdf(k,n)=\\sum_{i=0}^{k}\\frac{n!}{i!(n-i)!}p^i(1-p)^{n-i}$$"
   ]
  },
  {
   "cell_type": "code",
   "execution_count": 10,
   "metadata": {},
   "outputs": [
    {
     "name": "stdout",
     "output_type": "stream",
     "text": [
      "A  probabilidade de 3 ou mais pessoas ter recebido a vacina é 99.63%\n"
     ]
    }
   ],
   "source": [
    "%matplotlib inline\n",
    "import os\n",
    "import matplotlib.pyplot as plt \n",
    "import numpy as np\n",
    "import math\n",
    "from scipy.stats import binom  #módulo que possui a função binomial\n",
    "p=0.5\n",
    "n=15 #numero de pacientes escolhidos\n",
    "k=2\n",
    "p3=(1-binom.cdf(k,n,p))*100 #P[X>=3]=1-P[X<=2]\n",
    "print(\"A  probabilidade de 3 ou mais pessoas ter recebido a vacina é %.2f\" % p3 + \"%\")"
   ]
  },
  {
   "cell_type": "code",
   "execution_count": 11,
   "metadata": {},
   "outputs": [
    {
     "name": "stdout",
     "output_type": "stream",
     "text": [
      "A  probabilidade de 3 ou mais pessoas ter recebido a vacina é 99.63%\n"
     ]
    }
   ],
   "source": [
    "def factorial(x):\n",
    "    factorial=1\n",
    "    for i in range(1,x+1):\n",
    "        factorial = factorial*i\n",
    "    return factorial\n",
    "def cumulative(s, p, n):\n",
    "    cum = 0.0\n",
    "    c = n\n",
    "    for j in range(0,s+1):\n",
    "        cum += factorial(c) / (factorial(j)*factorial(c-j))* p**j * (1 - p)**(c-j)\n",
    "    return cum\n",
    "p1=(1-cumulative(2,0.5,15))*100\n",
    "print(\"A  probabilidade de 3 ou mais pessoas ter recebido a vacina é %.2f\" % p1 + \"%\")"
   ]
  },
  {
   "cell_type": "markdown",
   "metadata": {},
   "source": [
    "<b> alínea c) </b>\n",
    "\n",
    "Se se tivessem escolhido 600 pessoas para o estudo estariamos perante um tamanho amostral muito grande. <p> Podemos fazer então uma aproximação à distribuição de Poisson, caso se verifique $np\\geq30$. No entanto este critério é válido para valores de p pequenos, que não é o caso.</p>\n",
    "<p> Apesar disso pode-se resolver o problema através da aproximação á distribuição de Poisson,assumindo que $\\lambda=np$ e que n tende para infinito e posteriormente comparar com a própria distribuição binomial, através do desvio padrão.\n",
    "<p> A distribuição de Poisson é dada por: </p>\n",
    "$$P(k,n)=\\frac{\\lambda^k}{k!}e^{-\\lambda}$$"
   ]
  },
  {
   "cell_type": "code",
   "execution_count": 12,
   "metadata": {},
   "outputs": [
    {
     "name": "stdout",
     "output_type": "stream",
     "text": [
      "A probabilidade de 275 pessoas terem recebido a vacina é 0.82%\n",
      "O desvio padrão desta distribuição é 17.32\n"
     ]
    }
   ],
   "source": [
    "from scipy.stats import poisson  #módulo que possui a distribuição de poisson\n",
    "\n",
    "# a condição n*p verifica-se. usa-se a aproximação de Poisson\n",
    "p=0.5\n",
    "n=600\n",
    "l=n*p\n",
    "k=275\n",
    "p=poisson.pmf(k,l)*100\n",
    "print(\"A probabilidade de 275 pessoas terem recebido a vacina é %.2f\" % p+ \"%\")\n",
    "\n",
    "#o desvio padrão de uma distribuição de Poisson é a raiz quadrada de lambda.\n",
    "dp=(l)**0.5\n",
    "print(\"O desvio padrão desta distribuição é %.2f\" %dp)"
   ]
  },
  {
   "cell_type": "code",
   "execution_count": 13,
   "metadata": {},
   "outputs": [
    {
     "name": "stdout",
     "output_type": "stream",
     "text": [
      "A probabilidade de 275 pessoas das 600 terem recebido a vacina é 0.41%\n",
      "O desvio padrão desta distribuição é 12.25\n"
     ]
    }
   ],
   "source": [
    "from scipy.stats import binom  #módulo que possui a função binomial\n",
    "p=0.5\n",
    "q=1-p\n",
    "n=600 #numero de pacientes escolhidos\n",
    "k=275\n",
    "prob=(binom.pmf(k,n,p))\n",
    "print(\"A probabilidade de 275 pessoas das 600 terem recebido a vacina é %.2f\" % (prob*100) + \"%\")\n",
    "\n",
    "# o desvio padrão de uma distribuição binomial é:\n",
    "dp_binom=(n*p*q)**0.5\n",
    "print(\"O desvio padrão desta distribuição é %.2f\" %dp_binom)"
   ]
  },
  {
   "cell_type": "code",
   "execution_count": 14,
   "metadata": {},
   "outputs": [
    {
     "data": {
      "text/plain": [
       "<matplotlib.legend.Legend at 0x1f5530bf7f0>"
      ]
     },
     "execution_count": 14,
     "metadata": {},
     "output_type": "execute_result"
    },
    {
     "data": {
      "image/png": "[encoded data removed]",
      "text/plain": [
       "<matplotlib.figure.Figure at 0x1f552f12da0>"
      ]
     },
     "metadata": {},
     "output_type": "display_data"
    }
   ],
   "source": [
    "%matplotlib inline\n",
    "import numpy as np\n",
    "from scipy.stats import poisson\n",
    "from scipy.stats import binom  \n",
    "import matplotlib.pyplot as plt\n",
    "\n",
    "p=0.5\n",
    "n=600\n",
    "l=n*p\n",
    "def fb(k,n,p):\n",
    "    return binom.pmf(k,n,p)\n",
    "\n",
    "def fp(x,l):\n",
    "    return poisson.pmf(k,l)\n",
    "\n",
    "k = np.arange(200,400)\n",
    "plt.plot(k,fb(k,n,p),'-', label=\"p=0.5\")\n",
    "plt.plot(k,fp(k,l),'-', label=\"lambda=300\")\n",
    "plt.title(\"Distribuição binomial e Poisson\")\n",
    "plt.legend()"
   ]
  },
  {
   "cell_type": "markdown",
   "metadata": {},
   "source": [
    "pode-se ainda recorrer à distruibição de Gauss para confirmar estas aproximações. <p> Como esta distribuição é contínua não existe probabilidade pontual $(P[X=275])$. Logo pode-se considerar um intervalo e calcular a probabilidade desse intervalo, por exemplo $P[274.5 < X < 275.5]$"
   ]
  },
  {
   "cell_type": "code",
   "execution_count": 16,
   "metadata": {},
   "outputs": [
    {
     "name": "stdout",
     "output_type": "stream",
     "text": [
      "A probabilidade de encontrar um valor entre 274.5 e 275.5 é 0.41%\n",
      "O desvio padrão desta distribuição é 12.25\n"
     ]
    }
   ],
   "source": [
    "from scipy.stats import norm\n",
    "\n",
    "p=0.5\n",
    "q=1-p\n",
    "n=600\n",
    "mu=n*p\n",
    "sigma= (n*p*q)**0.5\n",
    "def normal(x,mu,sigma):\n",
    "    return norm.cdf(x,mu,sigma)\n",
    "\n",
    "prob=(normal(275.5,mu,sigma)-normal(274.5,mu,sigma))*100\n",
    "#Pr{274.5 < X < 275.5} = P(X< 275.5)-P(X< 274.5)\n",
    "print(\"A probabilidade de encontrar um valor entre 274.5 e 275.5 é %.2f\" %prob + \"%\")\n",
    "print(\"O desvio padrão desta distribuição é %.2f\" %sigma)"
   ]
  },
  {
   "cell_type": "markdown",
   "metadata": {},
   "source": [
    "Percebe-se assim, que a distribuição de Poisson não é uma boa aproximação."
   ]
  }
 ],
 "metadata": {
  "kernelspec": {
   "display_name": "Python 3",
   "language": "python",
   "name": "python3"
  },
  "language_info": {
   "codemirror_mode": {
    "name": "ipython",
    "version": 3
   },
   "file_extension": ".py",
   "mimetype": "text/x-python",
   "name": "python",
   "nbconvert_exporter": "python",
   "pygments_lexer": "ipython3",
   "version": "3.6.3"
  }
 },
 "nbformat": 4,
 "nbformat_minor": 2
}
