{
 "cells": [
  {
   "cell_type": "markdown",
   "metadata": {},
   "source": [
    "<b>Folha 3 - Distribuições binomial, de Poisson e de Gauss </b>\n",
    ">Exercício 8\n",
    "\n",
    "<center> Maria Inês Teixeira Gama - 20200315 </center>"
   ]
  },
  {
   "cell_type": "markdown",
   "metadata": {},
   "source": [
    "Uma vez que o tamanho amostral é muito grande podemos aproximar esta distribuição a uma distribuição normal.\n",
    "- Como o tamanho amostral é muito grande tanto a média amostral, como o desvio padrão amostral tendem para a média e o desvio padrão populacional, respetivamente."
   ]
  },
  {
   "cell_type": "markdown",
   "metadata": {},
   "source": [
    "### **alinea a)**"
   ]
  },
  {
   "cell_type": "markdown",
   "metadata": {},
   "source": [
    "Para calcular a média da distribuição temos de calcular o valor médio entre 91 e 99. $$\\frac{99-91}{2}+91=95$$"
   ]
  },
  {
   "cell_type": "code",
   "execution_count": 1,
   "metadata": {},
   "outputs": [
    {
     "data": {
      "text/plain": [
       "95.0"
      ]
     },
     "execution_count": 1,
     "metadata": {},
     "output_type": "execute_result"
    }
   ],
   "source": [
    "media=(99-91)/2+91\n",
    "media"
   ]
  },
  {
   "cell_type": "markdown",
   "metadata": {},
   "source": [
    "### **alinea b)**"
   ]
  },
  {
   "cell_type": "markdown",
   "metadata": {},
   "source": [
    " <p> Para determinar o desvio padrão sabemos, pela regra empírica que 95% dos valores da distribuição se situam entre $[\\mu-2\\sigma,\\mu+2\\sigma]$ </p>Logo os valores 95 e 91 estão separados de $2\\sigma$, assim como os valores 99 e 95 <p> Desta forma $95-91=2\\sigma$ e $99-95=2\\sigma$. \n",
    "- Percebemos então que $\\sigma=2$"
   ]
  },
  {
   "cell_type": "code",
   "execution_count": 2,
   "metadata": {},
   "outputs": [
    {
     "data": {
      "text/plain": [
       "2.0"
      ]
     },
     "execution_count": 2,
     "metadata": {},
     "output_type": "execute_result"
    }
   ],
   "source": [
    "sigma=(95-91)/2\n",
    "sigma=(99-95)/2\n",
    "sigma"
   ]
  },
  {
   "cell_type": "markdown",
   "metadata": {},
   "source": [
    "Com os valores da média e desvio padrão a distribuição gaussiana fica completamente definida. Logo a sua representação é:"
   ]
  },
  {
   "cell_type": "code",
   "execution_count": 1,
   "metadata": {},
   "outputs": [
    {
     "data": {
      "text/plain": [
       "<matplotlib.legend.Legend at 0x1d6e2027e10>"
      ]
     },
     "execution_count": 1,
     "metadata": {},
     "output_type": "execute_result"
    },
    {
     "data": {
      "image/png": "[encoded data removed]",
      "text/plain": [
       "<matplotlib.figure.Figure at 0x1d6e1302278>"
      ]
     },
     "metadata": {},
     "output_type": "display_data"
    }
   ],
   "source": [
    "%matplotlib inline\n",
    "import numpy as np\n",
    "from scipy.stats import norm  #módulo que possui a distribuição de gauss\n",
    "import matplotlib.pyplot as plt \n",
    "sigma=2\n",
    "mu=95\n",
    "def f(x,mu,sigma):\n",
    "    return norm.pdf(x,mu,sigma)\n",
    "x = np.arange(mu-5*sigma,mu+5*sigma,.001)\n",
    "plt.plot(x,f(x,mu,sigma),'-', label=(\"sigma=2,mu=95\"), color=\"green\")\n",
    "plt.title(\"Distribuição gaussiana\")  \n",
    "plt.legend()"
   ]
  }
 ],
 "metadata": {
  "kernelspec": {
   "display_name": "Python 3",
   "language": "python",
   "name": "python3"
  },
  "language_info": {
   "codemirror_mode": {
    "name": "ipython",
    "version": 3
   },
   "file_extension": ".py",
   "mimetype": "text/x-python",
   "name": "python",
   "nbconvert_exporter": "python",
   "pygments_lexer": "ipython3",
   "version": "3.6.3"
  }
 },
 "nbformat": 4,
 "nbformat_minor": 2
}
