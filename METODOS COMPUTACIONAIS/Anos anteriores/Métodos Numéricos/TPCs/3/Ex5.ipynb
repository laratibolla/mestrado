{
 "cells": [
  {
   "cell_type": "markdown",
   "metadata": {},
   "source": [
    "<b>Folha 3 - Distribuições binomial, de Poisson e de Gauss </b>\n",
    "- Exercício 5\n",
    "\n",
    "Maria Inês Teixeira Gama - 20200315"
   ]
  },
  {
   "cell_type": "markdown",
   "metadata": {},
   "source": [
    "O valor do tamanho amostral é muito elevado (N=6000), logo assume-se que esta variável segue uma distribuição normal.\n",
    "$$\\mu=4,2$$ $$\\sigma=1,3$$\n",
    "<p> A representação gráfica desta gaussiana é dada por: </p>"
   ]
  },
  {
   "cell_type": "code",
   "execution_count": 4,
   "metadata": {},
   "outputs": [
    {
     "data": {
      "text/plain": [
       "<matplotlib.legend.Legend at 0x1bedf0bf080>"
      ]
     },
     "execution_count": 4,
     "metadata": {},
     "output_type": "execute_result"
    },
    {
     "data": {
      "image/png": "[encoded data removed]",
      "text/plain": [
       "<matplotlib.figure.Figure at 0x1bedebcc438>"
      ]
     },
     "metadata": {},
     "output_type": "display_data"
    }
   ],
   "source": [
    "%matplotlib inline\n",
    "import numpy as np\n",
    "from scipy.stats import norm  #módulo que possui a distribuiução de gauss\n",
    "import matplotlib.pyplot as plt \n",
    "sigma=1.3\n",
    "mu=4.2\n",
    "def f(x,mu,sigma):\n",
    "    return norm.pdf(x,mu,sigma)\n",
    "x = np.arange(mu-5*sigma,mu+5*sigma,.001)\n",
    "plt.plot(x,f(x,mu,sigma),'-', label=(\"sigma=1.3,mu=4.2\"), color=\"cyan\")\n",
    "plt.title(\"Distribuição gaussiana\")  \n",
    "plt.legend()"
   ]
  },
  {
   "cell_type": "markdown",
   "metadata": {},
   "source": [
    "Vemos pela observação do gráfico que alguns valores da distruibuição se encontram em x<0. \n",
    "<p> No entanto, a variável aleatória em causa é a dose efetiva, pelo que não pode assumir valores negativos. </p>\n",
    "<p> Esta distribuição apenas está definida para x>0. É então necessário saber qual a percentagem de valores que se enconntram para lá de zero. Vamos então determinar o valor Z para x=0. </p>"
   ]
  },
  {
   "cell_type": "code",
   "execution_count": 5,
   "metadata": {},
   "outputs": [
    {
     "name": "stdout",
     "output_type": "stream",
     "text": [
      "A probablidade de encontrar valores inferiores a zero é 0.062%\n"
     ]
    }
   ],
   "source": [
    "mu=4.2\n",
    "sigma=1.3\n",
    "z=0-mu/sigma #valor z\n",
    "def f(q,mu,sigma):\n",
    "    return norm.cdf(q,mu,sigma)\n",
    "c=f(z,0,1) #variável estandardizada\n",
    "print(\"A probablidade de encontrar valores inferiores a zero é %.3f\" % (c*100) +\"%\")"
   ]
  },
  {
   "cell_type": "markdown",
   "metadata": {},
   "source": [
    " - Esta probablidade é muito pequena, pelo que pode ser desprezável e aplica-se a regra empírica dos 68%-95%-99.7%"
   ]
  },
  {
   "cell_type": "markdown",
   "metadata": {},
   "source": [
    "**alínea a)**\n",
    "Queremos saber entre que intervalos se encontram 68% dos casos.\n",
    "Sabe-se, pela regra empírica que 68% dos casos se encontram dentro do intervalo $[\\mu-1\\sigma,\\mu+1\\sigma]$"
   ]
  },
  {
   "cell_type": "code",
   "execution_count": 6,
   "metadata": {},
   "outputs": [
    {
     "name": "stdout",
     "output_type": "stream",
     "text": [
      "O intervalo de valores é [2.90,5.50]\n"
     ]
    }
   ],
   "source": [
    "mu=4.2\n",
    "sigma=1.3\n",
    "inf=mu-sigma\n",
    "sup=mu+sigma\n",
    "print(\"O intervalo de valores é [%.2f\" % inf + \",\" + \"%.2f\" % sup +\"]\")"
   ]
  },
  {
   "cell_type": "markdown",
   "metadata": {},
   "source": [
    "<b> alínea b) </b>\n",
    "Pela mesma regra empírica também conseguimos saber entre que valores se encontram 95% dos casos. Esse intervalo é $[\\mu-2\\sigma,\\mu+2\\sigma]$"
   ]
  },
  {
   "cell_type": "code",
   "execution_count": 7,
   "metadata": {},
   "outputs": [
    {
     "name": "stdout",
     "output_type": "stream",
     "text": [
      "O intervalo de valores é [1.60,6.80]\n"
     ]
    }
   ],
   "source": [
    "mu=4.2\n",
    "sigma=1.3\n",
    "inf2=mu-2*sigma\n",
    "sup2=mu+2*sigma\n",
    "print(\"O intervalo de valores é [%.2f\" % inf2 + \",\" + \"%.2f\" % sup2 +\"]\")"
   ]
  },
  {
   "cell_type": "markdown",
   "metadata": {},
   "source": [
    "#### OUTRA ALTERNATIVA\n",
    "Podemos fazer o mesmo cálculo recorrendo à inversa da cumulativa, que dá o valor para uma certa área q abaixo da curva.\n",
    " - Neste caso, como queremos 68% dos valores em torno do valor mediano, o limite inferior irá corresponder a uma area de 16% (100-68=32/2=16%) e o limite superior irá corresponder a uma área de 84% (50+68/2)"
   ]
  },
  {
   "cell_type": "markdown",
   "metadata": {},
   "source": [
    "**alínea a)**"
   ]
  },
  {
   "cell_type": "code",
   "execution_count": 8,
   "metadata": {},
   "outputs": [
    {
     "name": "stdout",
     "output_type": "stream",
     "text": [
      "O intervalo de valores é [2.91,5.49]\n"
     ]
    }
   ],
   "source": [
    "from scipy.stats import norm\n",
    "\n",
    "mu=4.2\n",
    "sigma=1.3\n",
    "\n",
    "def f(q,mu,sigma):\n",
    "    return norm.ppf(q,mu,sigma)\n",
    "a=f(0.16,mu,sigma) #limite inferior\n",
    "b=f(0.84,mu,sigma) #limite superior\n",
    "\n",
    "print(\"O intervalo de valores é [%.2f\" % a + \",\" + \"%.2f\" % b +\"]\")"
   ]
  },
  {
   "cell_type": "markdown",
   "metadata": {},
   "source": [
    "**alínea b)** Da mesma forma, como queremos 95% dos valores em torno do valor mediano, o limite inferior irá corresponder a uma area de 2.5% (100-95=5/2=2.5%) e o limite superior irá correspinder a uma área de 97.5% (50+95/2)"
   ]
  },
  {
   "cell_type": "code",
   "execution_count": 9,
   "metadata": {},
   "outputs": [
    {
     "name": "stdout",
     "output_type": "stream",
     "text": [
      "O intervalo de valores é [1.65,6.75]\n"
     ]
    }
   ],
   "source": [
    "from scipy.stats import norm\n",
    "\n",
    "mu=4.2\n",
    "sigma=1.3\n",
    "\n",
    "def f(q,mu,sigma):\n",
    "    return norm.ppf(q,mu,sigma)\n",
    "c=f(0.025,mu,sigma) #limite inferior\n",
    "d=f(0.975,mu,sigma) #limite superior\n",
    "\n",
    "print(\"O intervalo de valores é [%.2f\" % c + \",\" + \"%.2f\" % d +\"]\")"
   ]
  }
 ],
 "metadata": {
  "kernelspec": {
   "display_name": "Python 3",
   "language": "python",
   "name": "python3"
  },
  "language_info": {
   "codemirror_mode": {
    "name": "ipython",
    "version": 3
   },
   "file_extension": ".py",
   "mimetype": "text/x-python",
   "name": "python",
   "nbconvert_exporter": "python",
   "pygments_lexer": "ipython3",
   "version": "3.6.3"
  }
 },
 "nbformat": 4,
 "nbformat_minor": 2
}
