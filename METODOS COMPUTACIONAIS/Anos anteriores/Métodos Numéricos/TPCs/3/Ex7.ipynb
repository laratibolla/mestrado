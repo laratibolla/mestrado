{
 "cells": [
  {
   "cell_type": "markdown",
   "metadata": {},
   "source": [
    "<b>Folha 3 - Distribuições binomial, de Poisson e de Gauss </b>\n",
    "- Exercício 7\n",
    "\n",
    "Maria Inês Teixeira Gama - 20200315"
   ]
  },
  {
   "cell_type": "markdown",
   "metadata": {},
   "source": [
    "Estamos perante uma distribuição de Poisson uma vez que o tamanho amostra é muito grande (n=10 milhões), podendo afirmar que n tende para infinito e para além disso o problema envolve uma taxa média de ocorrência num intervalo de tempo. <p> Neste problema, a variável aleatória é o número de pessoas, logo temos de converter a taxa média de incidencia por ano para número de doentes por semana. </p>\n",
    " - A representação gráfica desta distribuição é:"
   ]
  },
  {
   "cell_type": "code",
   "execution_count": 8,
   "metadata": {},
   "outputs": [
    {
     "data": {
      "text/plain": [
       "<matplotlib.legend.Legend at 0x12cab5e4a58>"
      ]
     },
     "execution_count": 8,
     "metadata": {},
     "output_type": "execute_result"
    },
    {
     "data": {
      "image/png": "[encoded data removed]",
      "text/plain": [
       "<matplotlib.figure.Figure at 0x12ca9c41240>"
      ]
     },
     "metadata": {},
     "output_type": "display_data"
    }
   ],
   "source": [
    "%matplotlib inline\n",
    "import matplotlib\n",
    "import numpy as np\n",
    "import matplotlib.pyplot as plt\n",
    "from scipy.stats import poisson\n",
    "\n",
    "n=10000000\n",
    "taxa=0.023\n",
    "l=(n*taxa)/52\n",
    "\n",
    "def f(x,l):\n",
    "    return poisson.pmf(x,l)\n",
    "x = np.arange(4000,5000)\n",
    "plt.plot(x,f(x,l),'-', label=\"$\\lambda$=4423\", color=\"brown\")\n",
    "plt.legend()"
   ]
  },
  {
   "cell_type": "markdown",
   "metadata": {},
   "source": [
    "<b> alínea a) </b>\n",
    " <p> Pretende-se determinar a probabilidade de ocorrência de k eventos num intervalo.</p> Para esta alínea k=4200."
   ]
  },
  {
   "cell_type": "code",
   "execution_count": 9,
   "metadata": {},
   "outputs": [
    {
     "name": "stdout",
     "output_type": "stream",
     "text": [
      "A probabilidade de 4200 pessoas terem contraído a doença numa semana é 0.0020%\n"
     ]
    }
   ],
   "source": [
    "from scipy.stats import poisson\n",
    "\n",
    "n=10000000\n",
    "taxa=0.023\n",
    "l=(n*taxa)/52\n",
    "prob1=(poisson.pmf(4200,l))*100\n",
    "print(\"A probabilidade de 4200 pessoas terem contraído a doença numa semana é %.4f\" %prob1 +\"%\")"
   ]
  },
  {
   "cell_type": "markdown",
   "metadata": {},
   "source": [
    "<b> alínea b) </b>"
   ]
  },
  {
   "cell_type": "code",
   "execution_count": 10,
   "metadata": {},
   "outputs": [
    {
     "name": "stdout",
     "output_type": "stream",
     "text": [
      "A probabilidade de até 4200 pessoas terem contraído a doença numa semana é 0.037%\n",
      "A probabilidade de 4500 pessoas ou mais terem contraído a doença numa semana é 12.54%\n"
     ]
    }
   ],
   "source": [
    "from scipy.stats import poisson\n",
    "n=10000000\n",
    "taxa=0.023\n",
    "l=(n*taxa)/52\n",
    "prob= (poisson.cdf(4200,l))*100\n",
    "print(\"A probabilidade de até 4200 pessoas terem contraído a doença numa semana é %.3f\" %prob+\"%\")\n",
    "\n",
    "prob2= (1-poisson.cdf(4499,l))*100 #P[X>=4500]=1-P[X<=4499]\n",
    "print(\"A probabilidade de 4500 pessoas ou mais terem contraído a doença numa semana é %.2f\" %prob2 +\"%\")"
   ]
  },
  {
   "cell_type": "code",
   "execution_count": null,
   "metadata": {},
   "outputs": [],
   "source": []
  }
 ],
 "metadata": {
  "kernelspec": {
   "display_name": "Python 3",
   "language": "python",
   "name": "python3"
  },
  "language_info": {
   "codemirror_mode": {
    "name": "ipython",
    "version": 3
   },
   "file_extension": ".py",
   "mimetype": "text/x-python",
   "name": "python",
   "nbconvert_exporter": "python",
   "pygments_lexer": "ipython3",
   "version": "3.6.3"
  }
 },
 "nbformat": 4,
 "nbformat_minor": 2
}
