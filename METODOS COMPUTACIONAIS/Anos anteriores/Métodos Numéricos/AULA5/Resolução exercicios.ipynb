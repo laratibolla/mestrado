{
 "cells": [
  {
   "cell_type": "code",
   "execution_count": 5,
   "metadata": {},
   "outputs": [
    {
     "data": {
      "text/plain": [
       "2.688723361772299e+40"
      ]
     },
     "execution_count": 5,
     "metadata": {},
     "output_type": "execute_result"
    }
   ],
   "source": [
    "%matplotlib inline\n",
    "import os\n",
    "import numpy as np\n",
    "import math\n",
    "def factorial(x):\n",
    "    factorial=1\n",
    "    for i in range(1,x+1):\n",
    "        factorial = factorial*i\n",
    "    return factorial\n",
    "factorial(50000)/(factorial(10)*factorial(49990))"
   ]
  },
  {
   "cell_type": "code",
   "execution_count": 15,
   "metadata": {},
   "outputs": [
    {
     "name": "stdout",
     "output_type": "stream",
     "text": [
      "0.1271427824459351\n",
      "0.15727678303046805\n"
     ]
    }
   ],
   "source": [
    "%matplotlib inline\n",
    "import os\n",
    "import numpy as np\n",
    "import math\n",
    "from scipy.stats import poisson\n",
    "from scipy.stats import binom\n",
    "def poissoni(x,l):\n",
    "    return poisson.pmf(x,l)\n",
    "def binomi(x,n,p):\n",
    "    return binom.pmf(x,n,p)\n",
    "def cumulpoisson(x,l):\n",
    "    return poisson.cdf(x,l)\n",
    "def cumulbinom(x,n,p):\n",
    "    return binom.cdf(x,n,p)\n",
    "l=0.21*40\n",
    "p=0.21\n",
    "n=40\n",
    "print(cumulbinom(5,n,p))\n",
    "print(cumulpoisson(5,l))"
   ]
  },
  {
   "cell_type": "code",
   "execution_count": 14,
   "metadata": {},
   "outputs": [
    {
     "name": "stdout",
     "output_type": "stream",
     "text": [
      "1.3805725944459654e-27\n"
     ]
    }
   ],
   "source": [
    "%matplotlib inline\n",
    "import os\n",
    "import numpy as np\n",
    "import math\n",
    "from scipy.stats import poisson\n",
    "from scipy.stats import binom\n",
    "def poiss(x,l):\n",
    "    return poisson.pmf(x,l)\n",
    "def cumulpoisson(x,l):\n",
    "    return poisson.cdf(x,l)\n",
    "l=800/7\n",
    "print(poiss(20,l))"
   ]
  },
  {
   "cell_type": "code",
   "execution_count": 20,
   "metadata": {},
   "outputs": [
    {
     "data": {
      "text/plain": [
       "([<matplotlib.axis.XTick at 0x1a23f2ffd0>,\n",
       "  <matplotlib.axis.XTick at 0x1a23f2f6d0>,\n",
       "  <matplotlib.axis.XTick at 0x1a23f2f510>,\n",
       "  <matplotlib.axis.XTick at 0x1a23f5ebd0>,\n",
       "  <matplotlib.axis.XTick at 0x1a23f66250>,\n",
       "  <matplotlib.axis.XTick at 0x1a23f66790>,\n",
       "  <matplotlib.axis.XTick at 0x1a23f66e10>,\n",
       "  <matplotlib.axis.XTick at 0x1a23eb2490>],\n",
       " <a list of 8 Text xticklabel objects>)"
      ]
     },
     "execution_count": 20,
     "metadata": {},
     "output_type": "execute_result"
    },
    {
     "data": {
      "image/png": "[encoded data removed]",
      "text/plain": [
       "<Figure size 432x288 with 1 Axes>"
      ]
     },
     "metadata": {
      "needs_background": "light"
     },
     "output_type": "display_data"
    }
   ],
   "source": [
    "%matplotlib inline\n",
    "import os\n",
    "import numpy as np\n",
    "import math\n",
    "from scipy.stats import poisson  #módulo que possui a função binomial\n",
    "import pandas as pd\n",
    "import matplotlib.pyplot as plt \n",
    "l=np.array([0.7,1.4,2.8,5.6,11.2])\n",
    "def f(x,l):\n",
    "    return poisson.pmf(x,l)\n",
    "x = np.arange(0,400)\n",
    "# for lval in l:\n",
    "#plt.plot(x,f(x,l),'-o', label=l)\n",
    "#plt.legend()\n",
    "#plt.xticks(np.arange(min(x), max(x)+1, 1.0))\n",
    "lval=4*50\n",
    "#for lval in l:\n",
    "plt.plot(x,f(x,lval),'-o', label=lval)\n",
    "plt.legend()\n",
    "plt.xticks(np.arange(min(x), max(x)+1, 50.0))"
   ]
  },
  {
   "cell_type": "code",
   "execution_count": null,
   "metadata": {},
   "outputs": [],
   "source": []
  }
 ],
 "metadata": {
  "kernelspec": {
   "display_name": "Python 3",
   "language": "python",
   "name": "python3"
  },
  "language_info": {
   "codemirror_mode": {
    "name": "ipython",
    "version": 3
   },
   "file_extension": ".py",
   "mimetype": "text/x-python",
   "name": "python",
   "nbconvert_exporter": "python",
   "pygments_lexer": "ipython3",
   "version": "3.6.3"
  }
 },
 "nbformat": 4,
 "nbformat_minor": 4
}
