{
 "cells": [
  {
   "cell_type": "markdown",
   "metadata": {},
   "source": [
    "<b>Folha 2 -Estatística Descritiva. Valores-sumário, quantis, e indicadores de alcance.\n",
    " - Exercício 3</b>\n",
    "\n",
    "Maria Inês Teixeira Gama - 20200315"
   ]
  },
  {
   "cell_type": "code",
   "execution_count": 1,
   "metadata": {},
   "outputs": [
    {
     "data": {
      "text/plain": [
       "'C:\\\\Users\\\\Utilizador\\\\Desktop\\\\Faculdade\\\\FCUP\\\\2ºSEMESTRE\\\\métidos numéricos\\\\AULA3'"
      ]
     },
     "execution_count": 1,
     "metadata": {},
     "output_type": "execute_result"
    }
   ],
   "source": [
    "import os\n",
    "import numpy as np\n",
    "import pandas as pd\n",
    "\n",
    "os.getcwd() #diretoria"
   ]
  },
  {
   "cell_type": "code",
   "execution_count": 1,
   "metadata": {},
   "outputs": [
    {
     "data": {
      "text/html": [
       "<div>\n",
       "<style>\n",
       "    .dataframe thead tr:only-child th {\n",
       "        text-align: right;\n",
       "    }\n",
       "\n",
       "    .dataframe thead th {\n",
       "        text-align: left;\n",
       "    }\n",
       "\n",
       "    .dataframe tbody tr th {\n",
       "        vertical-align: top;\n",
       "    }\n",
       "</style>\n",
       "<table border=\"1\" class=\"dataframe\">\n",
       "  <thead>\n",
       "    <tr style=\"text-align: right;\">\n",
       "      <th></th>\n",
       "      <th>ID</th>\n",
       "      <th>Peso</th>\n",
       "      <th>Valor</th>\n",
       "      <th>Paridade</th>\n",
       "    </tr>\n",
       "  </thead>\n",
       "  <tbody>\n",
       "    <tr>\n",
       "      <th>count</th>\n",
       "      <td>30.000000</td>\n",
       "      <td>30.000000</td>\n",
       "      <td>30.000000</td>\n",
       "      <td>30.000000</td>\n",
       "    </tr>\n",
       "    <tr>\n",
       "      <th>mean</th>\n",
       "      <td>15.500000</td>\n",
       "      <td>3644.366667</td>\n",
       "      <td>6.900000</td>\n",
       "      <td>1.433333</td>\n",
       "    </tr>\n",
       "    <tr>\n",
       "      <th>std</th>\n",
       "      <td>8.803408</td>\n",
       "      <td>376.751860</td>\n",
       "      <td>1.398275</td>\n",
       "      <td>1.501340</td>\n",
       "    </tr>\n",
       "    <tr>\n",
       "      <th>min</th>\n",
       "      <td>1.000000</td>\n",
       "      <td>2860.000000</td>\n",
       "      <td>4.000000</td>\n",
       "      <td>0.000000</td>\n",
       "    </tr>\n",
       "    <tr>\n",
       "      <th>25%</th>\n",
       "      <td>8.250000</td>\n",
       "      <td>3399.250000</td>\n",
       "      <td>6.000000</td>\n",
       "      <td>0.250000</td>\n",
       "    </tr>\n",
       "    <tr>\n",
       "      <th>50%</th>\n",
       "      <td>15.500000</td>\n",
       "      <td>3614.000000</td>\n",
       "      <td>7.000000</td>\n",
       "      <td>1.000000</td>\n",
       "    </tr>\n",
       "    <tr>\n",
       "      <th>75%</th>\n",
       "      <td>22.750000</td>\n",
       "      <td>3893.500000</td>\n",
       "      <td>8.000000</td>\n",
       "      <td>2.000000</td>\n",
       "    </tr>\n",
       "    <tr>\n",
       "      <th>max</th>\n",
       "      <td>30.000000</td>\n",
       "      <td>4490.000000</td>\n",
       "      <td>9.000000</td>\n",
       "      <td>6.000000</td>\n",
       "    </tr>\n",
       "  </tbody>\n",
       "</table>\n",
       "</div>"
      ],
      "text/plain": [
       "              ID         Peso      Valor   Paridade\n",
       "count  30.000000    30.000000  30.000000  30.000000\n",
       "mean   15.500000  3644.366667   6.900000   1.433333\n",
       "std     8.803408   376.751860   1.398275   1.501340\n",
       "min     1.000000  2860.000000   4.000000   0.000000\n",
       "25%     8.250000  3399.250000   6.000000   0.250000\n",
       "50%    15.500000  3614.000000   7.000000   1.000000\n",
       "75%    22.750000  3893.500000   8.000000   2.000000\n",
       "max    30.000000  4490.000000   9.000000   6.000000"
      ]
     },
     "execution_count": 1,
     "metadata": {},
     "output_type": "execute_result"
    }
   ],
   "source": [
    "import os\n",
    "import numpy as np\n",
    "import pandas as pd\n",
    "\n",
    "dados = pd.read_csv(\"ex3.csv\") \n",
    "dados.describe()"
   ]
  },
  {
   "cell_type": "markdown",
   "metadata": {},
   "source": [
    "<b> alínea a) </b>\n",
    "\n",
    "   As variáveis descrevem algo que pode variar e podem ser numéricas ou categóricas. Dentro das variáveis contínuas podemos ainda dividir as variáveis em contínuas ou discretas, e dentro das variáveis categóricas podemos dividir em nominais ou ordinais.\n",
    "   \n",
    "Existem 5 variáveis: peso, valor Apgar, género, mãe fumou na gravidez e paridade da mãe.\n",
    "\n",
    "    Peso - variável numérica contínua (porque assume valores numa escala contínua)\n",
    "    \n",
    "    Valor apgar - variável numérica discreta (porque apenas apresenta valores inteiros)\n",
    "    \n",
    "    Género - variável categórica nominal (porque não existe ordenação entre as categorias)\n",
    "    \n",
    "    Mãe fumou na gravidez - variável categórica nominal (porque não existe ordenação entre as categorias)\n",
    "    \n",
    "    Paridade da mãe - variável numérica discreta (porque apenas apresenta valores inteiros)\n",
    "\n",
    "    "
   ]
  },
  {
   "cell_type": "markdown",
   "metadata": {},
   "source": [
    "<b> alínea c) </b>\n",
    "\n",
    "A moda, média e mediana podem ser determinadas recorrenco à biblioteca statistics. Estes valores de tendencia central calculam-se para variáveis numéricas, tanto discretas como contínuas, que neste caso são: peso, valor apgar e paridade da mãe."
   ]
  },
  {
   "cell_type": "code",
   "execution_count": 36,
   "metadata": {},
   "outputs": [
    {
     "data": {
      "text/plain": [
       "3644"
      ]
     },
     "execution_count": 36,
     "metadata": {},
     "output_type": "execute_result"
    }
   ],
   "source": [
    "import os\n",
    "import numpy as np\n",
    "import pandas as pd\n",
    "import statistics as stat\n",
    "\n",
    "dados = pd.read_csv(\"ex3.csv\") \n",
    "\n",
    "medianaPeso = stat.median(dados[\"Peso\"])\n",
    "##modaPeso= stat.mode(dados[\"Peso\"])\n",
    "mediaPeso = stat.mean(dados[\"Peso\"])\n",
    "#print(\"A mediana do peso é % s.\" % medianaPeso)\n",
    "##print(\"A moda do peso é % s.\" % modaPeso) # ESTÁ A DAR ERRO\n",
    "#print(\"A média do peso é % s.\" % mediaPeso)\n",
    "\n",
    "medianaValor = stat.median(dados[\"Valor\"])\n",
    "modaValor = stat.mode(dados[\"Valor\"])\n",
    "mediaValor = stat.mean(dados[\"Valor\"])\n",
    "#print(\"A mediana do valor apgar é % s.\" % medianaValor)\n",
    "#print(\"A moda do valor apgar é % s.\" % modaValor)\n",
    "#print(\"A média do valor apgar é % s.\" % int(mediaValor)) #colocamos a média como numero inteiro por se tratar de uma variavel discreta\n",
    "\n",
    "\n",
    "medianaParidade = stat.median(dados[\"Paridade\"])\n",
    "modaParidade= stat.mode(dados[\"Paridade\"])\n",
    "mediaParidade = stat.mean(dados[\"Paridade\"])\n",
    "#print(\"A mediana da paridade da mãe é % s.\" % medianaParidade)\n",
    "#print(\"A moda da paridade da mãe é % s.\" % modaParidade)\n",
    "#print(\"A média da paridade da mãe é % s.\" % int(mediaParidade)) #colocamos a média como numero inteiro por se tratar de uma variavel discreta\n",
    "\n",
    "mediaPeso"
   ]
  },
  {
   "cell_type": "code",
   "execution_count": 37,
   "metadata": {},
   "outputs": [
    {
     "name": "stdout",
     "output_type": "stream",
     "text": [
      "A média de partos é 3644.36666667.\n"
     ]
    }
   ],
   "source": [
    "N =len(dados) # número de dados\n",
    "soma=sum(dados[\"Peso\"]) #calcular a soma\n",
    "média=soma/N #média\n",
    "print(\"A média de partos é % s.\" % média)    #tentar descobrir como por mais casas decimais no stat.mean. senão usar esta forma para calcular a media"
   ]
  },
  {
   "cell_type": "markdown",
   "metadata": {},
   "source": [
    "<b> alínea d) </b>\n",
    "\n",
    "Queremos determinar o percentil 60, 75 e 90 da variável Peso"
   ]
  },
  {
   "cell_type": "code",
   "execution_count": 7,
   "metadata": {},
   "outputs": [
    {
     "data": {
      "text/html": [
       "<div>\n",
       "<style>\n",
       "    .dataframe thead tr:only-child th {\n",
       "        text-align: right;\n",
       "    }\n",
       "\n",
       "    .dataframe thead th {\n",
       "        text-align: left;\n",
       "    }\n",
       "\n",
       "    .dataframe tbody tr th {\n",
       "        vertical-align: top;\n",
       "    }\n",
       "</style>\n",
       "<table border=\"1\" class=\"dataframe\">\n",
       "  <thead>\n",
       "    <tr style=\"text-align: right;\">\n",
       "      <th></th>\n",
       "      <th>percentil</th>\n",
       "      <th>valor</th>\n",
       "    </tr>\n",
       "  </thead>\n",
       "  <tbody>\n",
       "    <tr>\n",
       "      <th>0</th>\n",
       "      <td>0.60</td>\n",
       "      <td>3683.6</td>\n",
       "    </tr>\n",
       "    <tr>\n",
       "      <th>1</th>\n",
       "      <td>0.75</td>\n",
       "      <td>3893.5</td>\n",
       "    </tr>\n",
       "    <tr>\n",
       "      <th>2</th>\n",
       "      <td>0.90</td>\n",
       "      <td>4104.6</td>\n",
       "    </tr>\n",
       "  </tbody>\n",
       "</table>\n",
       "</div>"
      ],
      "text/plain": [
       "   percentil   valor\n",
       "0       0.60  3683.6\n",
       "1       0.75  3893.5\n",
       "2       0.90  4104.6"
      ]
     },
     "execution_count": 7,
     "metadata": {},
     "output_type": "execute_result"
    }
   ],
   "source": [
    "import os\n",
    "import numpy as np\n",
    "import pandas as pd\n",
    "import statistics as stat\n",
    "\n",
    "dados = pd.read_csv(\"ex3.csv\")\n",
    "\n",
    "percent=[0.6,0.75,0.9]\n",
    "percentis = dados[\"Peso\"].quantile(percent).reset_index() #temos que arredondar \n",
    "percentis.columns=['Percentil','Valor']\n",
    "percentis"
   ]
  },
  {
   "cell_type": "markdown",
   "metadata": {},
   "source": [
    "Estes valores podem ser confirmados recorrendo à bibilioteca numpy"
   ]
  },
  {
   "cell_type": "code",
   "execution_count": 9,
   "metadata": {},
   "outputs": [
    {
     "name": "stdout",
     "output_type": "stream",
     "text": [
      "Percentil 60 da variável peso = 3683.6.\n",
      "Percentil 75 da variável peso = 3893.5.\n",
      "Percentil 90 da variável peso = 4104.6.\n"
     ]
    }
   ],
   "source": [
    "import numpy as np\n",
    "dados = pd.read_csv(\"ex3.csv\")\n",
    "\n",
    "percentil60 =  np.percentile(dados[\"Peso\"],60)\n",
    "percentil75 =  np.percentile(dados[\"Peso\"],75)\n",
    "percentil90 =  np.percentile(dados[\"Peso\"],90)\n",
    "print(\"Percentil 60 da variável peso = % s.\" % percentil60)\n",
    "print(\"Percentil 75 da variável peso = % s.\" % percentil75)\n",
    "print(\"Percentil 90 da variável peso = % s.\" % percentil90)\n"
   ]
  },
  {
   "cell_type": "markdown",
   "metadata": {},
   "source": [
    "<b> alínea e) </b>\n",
    "\n",
    "Queremos determinar a variância, o desvio-padrão e o erro-padrão das variáveis numéricas (peso, valor apgar e paridade da mãe).\n"
   ]
  },
  {
   "cell_type": "code",
   "execution_count": 33,
   "metadata": {},
   "outputs": [
    {
     "name": "stdout",
     "output_type": "stream",
     "text": [
      "A variancia da variável peso = 141942.103448.\n",
      "O desvio padrão da variável peso = 376.75204504856487.\n",
      "O erro padrão da variável peso = 68.78519788643383.\n",
      " \n",
      "A variancia da variável valor apgar = 2.79310344828.\n",
      "O desvio padrão da variável valor apgar = 1.6712580435934667.\n",
      "O erro padrão da variável valor apgar = 0.30512857662936466.\n",
      " \n",
      "A variancia da variável paridade da mãe = 2.44827586207.\n",
      "O desvio padrão da variável paridade da mãe = 1.5646967316604727.\n",
      "O erro padrão da variável paridade da mãe = 0.2856732318616829.\n"
     ]
    }
   ],
   "source": [
    "import os\n",
    "import numpy as np\n",
    "import pandas as pd\n",
    "import math\n",
    "\n",
    "dados = pd.read_csv(\"ex3.csv\")\n",
    "\n",
    "i = dados[\"Peso\"] #lista com todos os valores da variável peso\n",
    "a=(i-mediaPeso)**2\n",
    "varianciaPeso=sum(a)/(len(dados)-1)\n",
    "print(\"A variancia da variável peso = % s.\" % varianciaPeso)\n",
    "#o desvio padrão é a raiz quandrada da variancia\n",
    "dpPeso=math.pow(varianciaPeso,1/2)\n",
    "print(\"O desvio padrão da variável peso = % s.\" % dpPeso)\n",
    "# o erro padrão calcula-se dividindo o desvio padrão pela raiz quadrada do tamanho amostral\n",
    "erroPeso=dpPeso/math.pow(len(dados),1/2)\n",
    "print(\"O erro padrão da variável peso = % s.\" % erroPeso)\n",
    "print(\" \")\n",
    "\n",
    "#fazendo o mesmo para a variável valor apgar\n",
    "j = dados[\"Valor\"] #lista com todos os valores da variável peso\n",
    "b=(j-mediaValor)**2\n",
    "varianciaValor=sum(b)/(len(dados)-1)\n",
    "print(\"A variancia da variável valor apgar = % s.\" % varianciaValor)\n",
    "#o desvio padrão é a raiz quandrada da variancia\n",
    "dpValor=math.pow(varianciaValor,1/2)\n",
    "print(\"O desvio padrão da variável valor apgar = % s.\" % dpValor)\n",
    "# o erro padrão calcula-se dividindo o desvio padrão pela raiz quadrada do tamanho amostral\n",
    "erroValor=dpValor/math.pow(len(dados),1/2)\n",
    "print(\"O erro padrão da variável valor apgar = % s.\" % erroValor)\n",
    "print(\" \")\n",
    "\n",
    "#fazendo o mesmo para a variável paridade da mae\n",
    "k = dados[\"Paridade\"] #lista com todos os valores da variável peso\n",
    "c=(k-mediaParidade)**2\n",
    "varianciaParidade=sum(c)/(len(dados)-1)\n",
    "print(\"A variancia da variável paridade da mãe = % s.\" % varianciaParidade)\n",
    "#o desvio padrão é a raiz quandrada da variancia\n",
    "dpParidade=math.pow(varianciaParidade,1/2)\n",
    "print(\"O desvio padrão da variável paridade da mãe = % s.\" % dpParidade)\n",
    "# o erro padrão calcula-se dividindo o desvio padrão pela raiz quadrada do tamanho amostral\n",
    "erroParidade=dpParidade/math.pow(len(dados),1/2)\n",
    "print(\"O erro padrão da variável paridade da mãe = % s.\" % erroParidade)"
   ]
  },
  {
   "cell_type": "markdown",
   "metadata": {},
   "source": [
    "Estes valores podem ser confirmados reccorendo à biblioteca statistics"
   ]
  },
  {
   "cell_type": "code",
   "execution_count": 34,
   "metadata": {},
   "outputs": [
    {
     "name": "stdout",
     "output_type": "stream",
     "text": [
      "A variancia da variável peso = 141941.\n",
      "O desvio padrão da variável peso = 376.7505806233084.\n",
      " \n",
      "A variancia da variável valor apgar = 1.\n",
      "O desvio padrão da variável valor pagar = 1.0.\n",
      " \n",
      "A variancia da variável paridade da mãe = 2.\n",
      "O desvio padrão da variável paridade da mãe = 1.4142135623730951.\n"
     ]
    }
   ],
   "source": [
    "import os\n",
    "import numpy as np\n",
    "import pandas as pd\n",
    "import statistics as stat\n",
    "\n",
    "dados = pd.read_csv(\"ex3.csv\")\n",
    "varianciaPeso1= stat.variance(dados[\"Peso\"])\n",
    "dpPeso1= stat.stdev(dados[\"Peso\"])\n",
    "print(\"A variancia da variável peso = % s.\" % varianciaPeso1)\n",
    "print(\"O desvio padrão da variável peso = % s.\" % dpPeso1)\n",
    "print(\" \")\n",
    "varianciaValor1= stat.variance(dados[\"Valor\"])\n",
    "dpValor1= stat.stdev(dados[\"Valor\"])\n",
    "print(\"A variancia da variável valor apgar = % s.\" % varianciaValor1)\n",
    "print(\"O desvio padrão da variável valor pagar = % s.\" % dpValor1)\n",
    "print(\" \")\n",
    "varianciaPar1= stat.variance(dados[\"Paridade\"])\n",
    "dpPar1= stat.stdev(dados[\"Paridade\"])\n",
    "print(\"A variancia da variável paridade da mãe = % s.\" % varianciaPar1)\n",
    "print(\"O desvio padrão da variável paridade da mãe = % s.\" % dpPar1)"
   ]
  },
  {
   "cell_type": "code",
   "execution_count": null,
   "metadata": {},
   "outputs": [],
   "source": []
  }
 ],
 "metadata": {
  "kernelspec": {
   "display_name": "Python 3",
   "language": "python",
   "name": "python3"
  },
  "language_info": {
   "codemirror_mode": {
    "name": "ipython",
    "version": 3
   },
   "file_extension": ".py",
   "mimetype": "text/x-python",
   "name": "python",
   "nbconvert_exporter": "python",
   "pygments_lexer": "ipython3",
   "version": "3.6.3"
  }
 },
 "nbformat": 4,
 "nbformat_minor": 2
}
