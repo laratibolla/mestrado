{
 "cells": [
  {
   "cell_type": "markdown",
   "metadata": {},
   "source": [
    "<b>Calcular medianas, médias, e modas com o python</b>\n",
    "\n",
    "Vamos utilizar o exemplo de casa.\n",
    "\n",
    "Podemos usar  o \"statistics\":"
   ]
  },
  {
   "cell_type": "code",
   "execution_count": 50,
   "metadata": {},
   "outputs": [
    {
     "name": "stdout",
     "output_type": "stream",
     "text": [
      "A mediana de partos é 2.0.\n",
      "A moda de partos é 2.\n",
      "A média de partos é 2.\n"
     ]
    }
   ],
   "source": [
    "import os\n",
    "import math\n",
    "import numpy as np\n",
    "import pandas as pd\n",
    "import statistics as stat\n",
    "\n",
    "\n",
    "dados = pd.read_csv(\"Aula 3/exerciciocasa1_Idades.csv\") \n",
    "m1 = stat.median(dados[\"partos\"])\n",
    "m2 = stat.mode(dados[\"partos\"])\n",
    "m3 = stat.mean(dados[\"partos\"])\n",
    "print(\"A mediana de partos é % s.\" % m1)\n",
    "print(\"A moda de partos é % s.\" % m2)\n",
    "print(\"A média de partos é % s.\" % int(m3))"
   ]
  },
  {
   "cell_type": "markdown",
   "metadata": {},
   "source": [
    "Mas podemos querer fazer nós mesmos um código. Comecemos pela média."
   ]
  },
  {
   "cell_type": "code",
   "execution_count": 3,
   "metadata": {},
   "outputs": [
    {
     "name": "stdout",
     "output_type": "stream",
     "text": [
      "A média de partos é 2.\n"
     ]
    }
   ],
   "source": [
    "import os\n",
    "import math\n",
    "import numpy as np\n",
    "import pandas as pd\n",
    "\n",
    "dados = pd.read_csv(\"Aula 3/exerciciocasa1_Idades.csv\") \n",
    "N =len(dados) # número de dados\n",
    "soma=sum(dados[\"partos\"]) #calcular a soma\n",
    "média=soma/N #média\n",
    "print(\"A média de partos é % s.\" % int(média))"
   ]
  },
  {
   "cell_type": "markdown",
   "metadata": {},
   "source": [
    "Podemos ainda usar as frequências"
   ]
  },
  {
   "cell_type": "code",
   "execution_count": 55,
   "metadata": {},
   "outputs": [
    {
     "name": "stdout",
     "output_type": "stream",
     "text": [
      "A média de partos é 2.\n"
     ]
    }
   ],
   "source": [
    "import os\n",
    "import math\n",
    "import numpy as np\n",
    "import pandas as pd\n",
    "\n",
    "dados = pd.read_csv(\"Aula 3/exerciciocasa1_Idades.csv\") \n",
    "partos = dados[\"partos\"].value_counts().reset_index(name='Count').rename(columns={'Col1':'Col_value'}) \n",
    "partos.columns=['partos','contagem']\n",
    "N=sum(partos[\"contagem\"]) # usamos a frequência total\n",
    "soma=sum(partos[\"partos\"]*partos[\"contagem\"]) #somamos ponderando com frequências\n",
    "média=soma/N\n",
    "print(\"A média de partos é % s.\" % int(média))"
   ]
  },
  {
   "cell_type": "markdown",
   "metadata": {},
   "source": [
    "Vamos agora determinar a mediana."
   ]
  },
  {
   "cell_type": "code",
   "execution_count": 62,
   "metadata": {},
   "outputs": [
    {
     "name": "stdout",
     "output_type": "stream",
     "text": [
      "A mediana de partos é 2.0.\n"
     ]
    }
   ],
   "source": [
    "import os\n",
    "import math\n",
    "import numpy as np\n",
    "import pandas as pd\n",
    "\n",
    "dados = pd.read_csv(\"Aula 3/exerciciocasa1_Idades.csv\") \n",
    "N=len(dados) #vamos também precisar\n",
    "partos=dados[\"partos\"].sort_values()  # precisamos de ordenar os dados\n",
    "partos\n",
    "\n",
    "if N % 2 == 0:  # casos de distribuição par\n",
    "    mediana1=partos[N//2]\n",
    "    mediana2=partos[N//2 +1] # buscar os dois valores centrais\n",
    "    mediana= (mediana1+mediana2)/2\n",
    "else:\n",
    "    mediana=partos[N//2]\n",
    "print(\"A mediana de partos é % s.\" % mediana)\n"
   ]
  },
  {
   "cell_type": "markdown",
   "metadata": {},
   "source": [
    "E finalmente a moda. Para este, vamos precisar de importar o \"Counter\", que permite contar elementos duplicados num DataFrame."
   ]
  },
  {
   "cell_type": "code",
   "execution_count": 74,
   "metadata": {},
   "outputs": [
    {
     "name": "stdout",
     "output_type": "stream",
     "text": [
      "A moda de partos é 2.\n"
     ]
    }
   ],
   "source": [
    "import os\n",
    "import math\n",
    "import numpy as np\n",
    "import pandas as pd\n",
    "from collections import Counter\n",
    "\n",
    "dados = pd.read_csv(\"Aula 3/exerciciocasa1_Idades.csv\") \n",
    "partos=dados[\"partos\"]\n",
    "N=len(dados) # continuamos a precisar\n",
    "contados=Counter(partos)\n",
    "#v=list(contados.values())\n",
    "#k=list(contados.keys())\n",
    "contados\n",
    "\n",
    "moda2 = k[v.index(max(v))]\n",
    "\n",
    "        \n",
    "# moda2 = [k for k, v in dict(contados).items() if v == max(list(contados.values()))]\n",
    " \n",
    "if max(v) == N:\n",
    "    moda = \"Este conjunto de dados não tem moda\"\n",
    "else: \n",
    "    moda = moda2\n",
    "print(\"A moda de partos é % s.\" % moda)"
   ]
  },
  {
   "cell_type": "code",
   "execution_count": null,
   "metadata": {},
   "outputs": [],
   "source": []
  }
 ],
 "metadata": {
  "kernelspec": {
   "display_name": "Python 3",
   "language": "python",
   "name": "python3"
  },
  "language_info": {
   "codemirror_mode": {
    "name": "ipython",
    "version": 3
   },
   "file_extension": ".py",
   "mimetype": "text/x-python",
   "name": "python",
   "nbconvert_exporter": "python",
   "pygments_lexer": "ipython3",
   "version": "3.6.3"
  }
 },
 "nbformat": 4,
 "nbformat_minor": 4
}
